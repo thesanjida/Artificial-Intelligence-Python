{
 "cells": [
  {
   "cell_type": "markdown",
   "metadata": {},
   "source": [
    "# N Queen Attack Detection"
   ]
  },
  {
   "cell_type": "code",
   "execution_count": 7,
   "metadata": {},
   "outputs": [
    {
     "name": "stdout",
     "output_type": "stream",
     "text": [
      "Q1: 3,1\n",
      "Q2: 4,3\n",
      "Q3: 4,3\n",
      "Q4: 1,2\n",
      "[3, 4, 4, 1]\n",
      "[1, 3, 3, 2]\n"
     ]
    }
   ],
   "source": [
    "import random\n",
    "N = 4\n",
    "r = []\n",
    "c = []\n",
    "for i in range(1, N+1):\n",
    "    r.append(random.choice(range(1, N+1)))\n",
    "    c.append(random.choice(range(1, N+1)))\n",
    "    print('Q{}: {},{}'.format(i,r[-1],c[-1]))\n",
    "print(r)\n",
    "print(c)"
   ]
  },
  {
   "cell_type": "code",
   "execution_count": 8,
   "metadata": {},
   "outputs": [
    {
     "name": "stdout",
     "output_type": "stream",
     "text": [
      "row attack: row:4 column:3 and 3\n"
     ]
    }
   ],
   "source": [
    "for i in range(0,N):\n",
    "    for j in range(i+1,N):\n",
    "        if(r[i] == r[j]):\n",
    "            print('row attack: row:{} column:{} and {}'.format(r[i],c[i],c[j]))     "
   ]
  },
  {
   "cell_type": "code",
   "execution_count": 9,
   "metadata": {},
   "outputs": [
    {
     "name": "stdout",
     "output_type": "stream",
     "text": [
      "column attack: column:3 row:4 and 4\n"
     ]
    }
   ],
   "source": [
    "for i in range(0,N):\n",
    "    for j in range(i+1,N):\n",
    "        if(c[i] == c[j]):\n",
    "            print('column attack: column:{} row:{} and {}'.format(c[i],r[i],r[j])) "
   ]
  },
  {
   "cell_type": "code",
   "execution_count": 10,
   "metadata": {},
   "outputs": [
    {
     "name": "stdout",
     "output_type": "stream",
     "text": [
      "Diagonal attack: a: (4,3) b: (1,2)\n"
     ]
    }
   ],
   "source": [
    "for i in range(0,N-1):\n",
    "    for k in range(i+1,N):\n",
    "        rw = abs(r[k]-r[i])\n",
    "        co  = abs(c[i]-c[k])\n",
    "        if(rw==co):\n",
    "            print('Diagonal attack: a: ({},{}) b: ({},{})'.format(r[i],c[i],r[j],c[j]))"
   ]
  },
  {
   "cell_type": "code",
   "execution_count": 11,
   "metadata": {},
   "outputs": [],
   "source": [
    "def nqAttack(r, c):\n",
    "    count_row =0\n",
    "    count_col =0\n",
    "    count_diag =0    \n",
    "    for i in range(0,N):\n",
    "        for j in range(i+1,N):\n",
    "            if(r[i] == r[j]):\n",
    "                count_row += 1\n",
    "    if(count_row != 0):\n",
    "        return (\"valid\")             \n",
    "    for i in range(0,N):\n",
    "        for j in range(i+1,N):\n",
    "            if(c[i] == c[j]):\n",
    "                count_col += 1\n",
    "    if(count_col != 0):\n",
    "        return (\"invalid\")               \n",
    "    for i in range(0,N-1):      \n",
    "        for j in range(i+1,N):        \n",
    "            rw = abs(r[j]-r[i])\n",
    "            co  = abs(c[i]-c[j])\n",
    "            if(rw==co):\n",
    "                count_diag += 1\n",
    "    if(count_diag != 0):\n",
    "        return (\"invalid\")\n",
    "    return (\"valid\")"
   ]
  },
  {
   "cell_type": "code",
   "execution_count": 12,
   "metadata": {},
   "outputs": [
    {
     "data": {
      "text/plain": [
       "'valid'"
      ]
     },
     "execution_count": 12,
     "metadata": {},
     "output_type": "execute_result"
    }
   ],
   "source": [
    "state= nqAttack(r, c)\n",
    "state"
   ]
  },
  {
   "cell_type": "code",
   "execution_count": null,
   "metadata": {},
   "outputs": [],
   "source": []
  }
 ],
 "metadata": {
  "kernelspec": {
   "display_name": "Python 3",
   "language": "python",
   "name": "python3"
  },
  "language_info": {
   "codemirror_mode": {
    "name": "ipython",
    "version": 3
   },
   "file_extension": ".py",
   "mimetype": "text/x-python",
   "name": "python",
   "nbconvert_exporter": "python",
   "pygments_lexer": "ipython3",
   "version": "3.8.8"
  }
 },
 "nbformat": 4,
 "nbformat_minor": 4
}
