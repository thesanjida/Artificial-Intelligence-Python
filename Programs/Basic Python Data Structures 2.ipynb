{
 "cells": [
  {
   "cell_type": "markdown",
   "metadata": {},
   "source": [
    "# User Input"
   ]
  },
  {
   "cell_type": "code",
   "execution_count": 6,
   "metadata": {},
   "outputs": [
    {
     "name": "stdout",
     "output_type": "stream",
     "text": [
      "21\n"
     ]
    }
   ],
   "source": [
    "a = 21\n",
    "print(a)"
   ]
  },
  {
   "cell_type": "code",
   "execution_count": 1,
   "metadata": {},
   "outputs": [
    {
     "name": "stdout",
     "output_type": "stream",
     "text": [
      "asf\n",
      "asf\n"
     ]
    }
   ],
   "source": [
    "a = input() # always returns string\n",
    "print(a)"
   ]
  },
  {
   "cell_type": "code",
   "execution_count": 2,
   "metadata": {},
   "outputs": [
    {
     "name": "stdout",
     "output_type": "stream",
     "text": [
      "Enter a value: Bangladesh\n",
      "Bangladesh\n"
     ]
    }
   ],
   "source": [
    "a = input(\"Enter a value: \")\n",
    "print(a)"
   ]
  },
  {
   "cell_type": "code",
   "execution_count": 13,
   "metadata": {},
   "outputs": [
    {
     "name": "stdout",
     "output_type": "stream",
     "text": [
      "Enter a number: 98\n",
      "121\n"
     ]
    }
   ],
   "source": [
    "a = int(input('Enter a number: ')) # always returns string\n",
    "print(a + 23)"
   ]
  },
  {
   "cell_type": "code",
   "execution_count": 17,
   "metadata": {},
   "outputs": [
    {
     "name": "stdout",
     "output_type": "stream",
     "text": [
      "Enter your name: 1234\n",
      "Your name is 1234\n"
     ]
    }
   ],
   "source": [
    "name = input('Enter your name: ') # always returns string\n",
    "print('Your name is ' + name)"
   ]
  },
  {
   "cell_type": "markdown",
   "metadata": {},
   "source": [
    "# Loop"
   ]
  },
  {
   "cell_type": "code",
   "execution_count": 22,
   "metadata": {},
   "outputs": [
    {
     "name": "stdout",
     "output_type": "stream",
     "text": [
      "1\n",
      "ok\n",
      "56\n",
      "ok\n",
      "78\n",
      "ok\n",
      "8\n",
      "ok\n",
      "not\n"
     ]
    }
   ],
   "source": [
    "numbers = [1, 56, 78, 8]\n",
    "\n",
    "for n in numbers:\n",
    "    print(n)\n",
    "    print('ok')\n",
    "print('not')"
   ]
  },
  {
   "cell_type": "code",
   "execution_count": 30,
   "metadata": {},
   "outputs": [
    {
     "name": "stdout",
     "output_type": "stream",
     "text": [
      "1\n",
      "56\n",
      "78\n",
      "8\n"
     ]
    }
   ],
   "source": [
    "for i in range(len(numbers)):\n",
    "    print(numbers[i])"
   ]
  },
  {
   "cell_type": "code",
   "execution_count": 29,
   "metadata": {},
   "outputs": [
    {
     "name": "stdout",
     "output_type": "stream",
     "text": [
      "2 7 12 17 22 27 32 37 42 47 52 57 62 67 72 77 82 87 92 97 "
     ]
    }
   ],
   "source": [
    "# for(i=0; i<10; i++){}\n",
    "# range\n",
    "for i in range(2,100,5):\n",
    "    print(i, end = ' ')"
   ]
  },
  {
   "cell_type": "code",
   "execution_count": 5,
   "metadata": {},
   "outputs": [
    {
     "name": "stdout",
     "output_type": "stream",
     "text": [
      "Enter number: 89\n",
      "89\n"
     ]
    }
   ],
   "source": []
  },
  {
   "cell_type": "code",
   "execution_count": 39,
   "metadata": {},
   "outputs": [
    {
     "name": "stdout",
     "output_type": "stream",
     "text": [
      "0\n",
      "2\n",
      "4\n",
      "6\n",
      "8\n"
     ]
    }
   ],
   "source": [
    "# print even number\n",
    "for i in range(0,10,2):    \n",
    "    print(i)"
   ]
  },
  {
   "cell_type": "code",
   "execution_count": 40,
   "metadata": {},
   "outputs": [
    {
     "name": "stdout",
     "output_type": "stream",
     "text": [
      "0\n",
      "2\n",
      "4\n",
      "6\n",
      "8\n"
     ]
    }
   ],
   "source": [
    "# print even number\n",
    "for i in range(10):  \n",
    "    if i % 2 == 0:\n",
    "        print(i)"
   ]
  },
  {
   "cell_type": "code",
   "execution_count": 41,
   "metadata": {},
   "outputs": [
    {
     "name": "stdout",
     "output_type": "stream",
     "text": [
      "0\n",
      "2\n",
      "4\n",
      "6\n",
      "8\n"
     ]
    }
   ],
   "source": [
    "# print even number\n",
    "for i in range(10):  \n",
    "    if i % 2 == 1:\n",
    "        continue\n",
    "    print(i)"
   ]
  },
  {
   "cell_type": "code",
   "execution_count": 43,
   "metadata": {},
   "outputs": [
    {
     "name": "stdout",
     "output_type": "stream",
     "text": [
      "bad\n",
      "not okay\n"
     ]
    }
   ],
   "source": [
    "# indent\n",
    "i = 7\n",
    "if i < 5: # () not required, {} not required\n",
    "    print('okay')\n",
    "    print('fine')\n",
    "else:\n",
    "    print('bad')\n",
    "print('not okay') # will be executed in each run"
   ]
  },
  {
   "cell_type": "code",
   "execution_count": 15,
   "metadata": {},
   "outputs": [
    {
     "name": "stdout",
     "output_type": "stream",
     "text": [
      "10\n",
      "ok\n",
      "20\n",
      "ok\n",
      "30\n",
      "ok\n",
      "40\n",
      "ok\n",
      "50\n",
      "ok\n",
      "60\n",
      "ok\n",
      "70\n",
      "ok\n",
      "80\n",
      "ok\n",
      "90\n",
      "ok\n",
      "done\n"
     ]
    }
   ],
   "source": [
    "# loop\n",
    "for i in range(10,100,10):\n",
    "    print(i)\n",
    "    print(\"ok\")\n",
    "print(\"done\")"
   ]
  },
  {
   "cell_type": "code",
   "execution_count": 5,
   "metadata": {},
   "outputs": [
    {
     "name": "stdout",
     "output_type": "stream",
     "text": [
      "m\n",
      "y\n",
      "j\n",
      "o\n",
      "b\n"
     ]
    }
   ],
   "source": [
    "myjob = \"bangladesh\"\n",
    "for c in 'myjob': \n",
    "    print(c,end='\\n')"
   ]
  },
  {
   "cell_type": "markdown",
   "metadata": {},
   "source": [
    "# IF, IF ELSE, ELSE IF"
   ]
  },
  {
   "cell_type": "code",
   "execution_count": 8,
   "metadata": {},
   "outputs": [],
   "source": [
    "# if\n",
    "a = 1\n",
    "if a > 2:\n",
    "    print ('greater')"
   ]
  },
  {
   "cell_type": "code",
   "execution_count": 9,
   "metadata": {},
   "outputs": [
    {
     "name": "stdout",
     "output_type": "stream",
     "text": [
      "smaller\n"
     ]
    }
   ],
   "source": [
    "# if-else\n",
    "a = 1\n",
    "if a > 2:\n",
    "    print ('greater')\n",
    "else:\n",
    "    print( 'smaller')"
   ]
  },
  {
   "cell_type": "code",
   "execution_count": 51,
   "metadata": {},
   "outputs": [
    {
     "name": "stdout",
     "output_type": "stream",
     "text": [
      "out of range\n"
     ]
    }
   ],
   "source": [
    "a = 77\n",
    "if a < 10:\n",
    "    print('small')\n",
    "elif a < 20:\n",
    "    print('medium')\n",
    "elif a < 50:\n",
    "    print('larger')\n",
    "else:\n",
    "    print('out of range')"
   ]
  },
  {
   "cell_type": "markdown",
   "metadata": {},
   "source": [
    "# Method"
   ]
  },
  {
   "cell_type": "code",
   "execution_count": 10,
   "metadata": {},
   "outputs": [],
   "source": [
    "# define method\n",
    "def addnumbers(a, b): # add numbers and return result\n",
    "    # logic\n",
    "    c = a + b\n",
    "    return c"
   ]
  },
  {
   "cell_type": "code",
   "execution_count": 54,
   "metadata": {},
   "outputs": [
    {
     "data": {
      "text/plain": [
       "17"
      ]
     },
     "execution_count": 54,
     "metadata": {},
     "output_type": "execute_result"
    }
   ],
   "source": [
    "addnumbers(8, 9) # use or call method"
   ]
  },
  {
   "cell_type": "code",
   "execution_count": 55,
   "metadata": {},
   "outputs": [
    {
     "data": {
      "text/plain": [
       "99"
      ]
     },
     "execution_count": 55,
     "metadata": {},
     "output_type": "execute_result"
    }
   ],
   "source": [
    "addnumbers(33, 66)"
   ]
  },
  {
   "cell_type": "code",
   "execution_count": 58,
   "metadata": {},
   "outputs": [],
   "source": [
    "# add list values\n",
    "def addValues(num):\n",
    "    sum = 0\n",
    "    for n in num:\n",
    "        sum = sum + n\n",
    "    return sum\n",
    "    "
   ]
  },
  {
   "cell_type": "code",
   "execution_count": 60,
   "metadata": {},
   "outputs": [
    {
     "data": {
      "text/plain": [
       "28"
      ]
     },
     "execution_count": 60,
     "metadata": {},
     "output_type": "execute_result"
    }
   ],
   "source": [
    "v = [5, 4,12, 7]\n",
    "addValues(v)"
   ]
  },
  {
   "cell_type": "code",
   "execution_count": 61,
   "metadata": {},
   "outputs": [
    {
     "data": {
      "text/plain": [
       "84"
      ]
     },
     "execution_count": 61,
     "metadata": {},
     "output_type": "execute_result"
    }
   ],
   "source": [
    "v = [5, 4,12, 7, 5, 4,12, 7, 5, 4,12, 7]\n",
    "addValues(v)"
   ]
  },
  {
   "cell_type": "code",
   "execution_count": 63,
   "metadata": {},
   "outputs": [],
   "source": [
    "# task: write a method which will add numbers of two different lists\n",
    "# returns another list\n",
    "# Example:\n",
    "# [3,4,5,1]\n",
    "# [6,7,2,8]\n",
    "# output: [9,11,7,9]\n"
   ]
  },
  {
   "cell_type": "code",
   "execution_count": 47,
   "metadata": {},
   "outputs": [
    {
     "name": "stdout",
     "output_type": "stream",
     "text": [
      "[6, 8, 10, 12]\n"
     ]
    }
   ],
   "source": [
    "def addNumbers(num1, num2):\n",
    "    newlist = []\n",
    "    for x in range(len(num1)):\n",
    "        newlist.append(num1[x]+num2[x])\n",
    "    \n",
    "    return newlist\n",
    "\n",
    "u=[1,2,3,4]\n",
    "v =[5,6,7,8]\n",
    "print(addNumbers(u,v))\n",
    "    "
   ]
  },
  {
   "cell_type": "code",
   "execution_count": 18,
   "metadata": {},
   "outputs": [
    {
     "data": {
      "text/plain": [
       "[1, 2, 3, 4, 5, 6, 7, 8]"
      ]
     },
     "execution_count": 18,
     "metadata": {},
     "output_type": "execute_result"
    }
   ],
   "source": [
    "n1 = [1,2,3,4]\n",
    "n2 = [5,6,7,8]\n",
    "addNumbers(n1, n2)"
   ]
  },
  {
   "cell_type": "code",
   "execution_count": 64,
   "metadata": {},
   "outputs": [],
   "source": [
    "# method/function\n",
    "def multiTable(n, r=10):\n",
    "    for i in range(1,r+1):\n",
    "        print(\"{}X{}={}\".format(n,i,n*i))\n"
   ]
  },
  {
   "cell_type": "code",
   "execution_count": 69,
   "metadata": {},
   "outputs": [
    {
     "name": "stdout",
     "output_type": "stream",
     "text": [
      "17X1=17\n",
      "17X2=34\n",
      "17X3=51\n",
      "17X4=68\n",
      "17X5=85\n",
      "17X6=102\n",
      "17X7=119\n",
      "17X8=136\n",
      "17X9=153\n",
      "17X10=170\n",
      "17X11=187\n",
      "17X12=204\n",
      "17X13=221\n",
      "17X14=238\n",
      "17X15=255\n"
     ]
    }
   ],
   "source": [
    "multiTable(17,15)"
   ]
  },
  {
   "cell_type": "code",
   "execution_count": 70,
   "metadata": {},
   "outputs": [
    {
     "name": "stdout",
     "output_type": "stream",
     "text": [
      "5X1=5\n",
      "5X2=10\n",
      "5X3=15\n",
      "5X4=20\n",
      "5X5=25\n",
      "5X6=30\n",
      "5X7=35\n",
      "5X8=40\n",
      "5X9=45\n",
      "5X10=50\n"
     ]
    }
   ],
   "source": [
    "multiTable(5)"
   ]
  },
  {
   "cell_type": "code",
   "execution_count": null,
   "metadata": {},
   "outputs": [],
   "source": [
    "# task\n",
    "# define a method to print first name and last name from full name\n",
    "\n",
    "# ex: input: Arafat Rahman \n",
    "# output: \n",
    "#first name: Arafat\n",
    "#last name: Rahman\n",
    "\n",
    "# getNames('Arafat Rahman')\n",
    " def getNames():\n",
    "        #define logic\n"
   ]
  },
  {
   "cell_type": "code",
   "execution_count": 58,
   "metadata": {},
   "outputs": [
    {
     "name": "stdout",
     "output_type": "stream",
     "text": [
      "Sanjida Alam\n",
      "First Name: Sanjida\n",
      "Last Name: Alam\n"
     ]
    }
   ],
   "source": [
    "def name(first_name, last_name):\n",
    "    return first_name + ' ' + last_name\n",
    "\n",
    "full_name = name('Sanjida','Alam')\n",
    "print(full_name)\n",
    "\n",
    "def getNames(name):\n",
    "    first, *last = name.split()\n",
    "    print(\"First Name: {first}\".format(first=first))\n",
    "    print(\"Last Name: {last}\".format(last=\" \".join(last)))\n",
    "    \n",
    "getNames('Sanjida Alam')"
   ]
  },
  {
   "cell_type": "markdown",
   "metadata": {},
   "source": [
    "## Lesson 2 (String)"
   ]
  },
  {
   "cell_type": "code",
   "execution_count": 42,
   "metadata": {},
   "outputs": [],
   "source": [
    "s1 = ''"
   ]
  },
  {
   "cell_type": "code",
   "execution_count": 43,
   "metadata": {},
   "outputs": [],
   "source": [
    "s2 = \"spam's\""
   ]
  },
  {
   "cell_type": "code",
   "execution_count": 44,
   "metadata": {},
   "outputs": [],
   "source": [
    "block = \"\"\"...\"\"\""
   ]
  },
  {
   "cell_type": "code",
   "execution_count": 48,
   "metadata": {},
   "outputs": [],
   "source": [
    "s3 = r'\\temp\\spam'"
   ]
  },
  {
   "cell_type": "code",
   "execution_count": 49,
   "metadata": {},
   "outputs": [],
   "source": [
    "s4 = u'spam'"
   ]
  },
  {
   "cell_type": "code",
   "execution_count": 53,
   "metadata": {},
   "outputs": [
    {
     "data": {
      "text/plain": [
       "\"spam's\""
      ]
     },
     "execution_count": 53,
     "metadata": {},
     "output_type": "execute_result"
    }
   ],
   "source": [
    "s1 + s2"
   ]
  },
  {
   "cell_type": "code",
   "execution_count": 54,
   "metadata": {},
   "outputs": [
    {
     "data": {
      "text/plain": [
       "\"spam'sspam'sspam's\""
      ]
     },
     "execution_count": 54,
     "metadata": {},
     "output_type": "execute_result"
    }
   ],
   "source": [
    "s2 * 3"
   ]
  },
  {
   "cell_type": "code",
   "execution_count": 56,
   "metadata": {},
   "outputs": [
    {
     "data": {
      "text/plain": [
       "'s'"
      ]
     },
     "execution_count": 56,
     "metadata": {},
     "output_type": "execute_result"
    }
   ],
   "source": [
    "i=0\n",
    "s2[i]"
   ]
  },
  {
   "cell_type": "code",
   "execution_count": 60,
   "metadata": {},
   "outputs": [
    {
     "data": {
      "text/plain": [
       "\"spam'\""
      ]
     },
     "execution_count": 60,
     "metadata": {},
     "output_type": "execute_result"
    }
   ],
   "source": [
    "j= -1\n",
    "s2[i:j]\n"
   ]
  },
  {
   "cell_type": "code",
   "execution_count": 61,
   "metadata": {},
   "outputs": [
    {
     "data": {
      "text/plain": [
       "6"
      ]
     },
     "execution_count": 61,
     "metadata": {},
     "output_type": "execute_result"
    }
   ],
   "source": [
    "len(s2)\n"
   ]
  },
  {
   "cell_type": "code",
   "execution_count": 62,
   "metadata": {},
   "outputs": [
    {
     "data": {
      "text/plain": [
       "\"a <class 'type'> parrot\""
      ]
     },
     "execution_count": 62,
     "metadata": {},
     "output_type": "execute_result"
    }
   ],
   "source": [
    "\"a %s parrot\" % type"
   ]
  },
  {
   "cell_type": "code",
   "execution_count": 63,
   "metadata": {},
   "outputs": [
    {
     "data": {
      "text/plain": [
       "1"
      ]
     },
     "execution_count": 63,
     "metadata": {},
     "output_type": "execute_result"
    }
   ],
   "source": [
    "s2.find('pa')\n"
   ]
  },
  {
   "cell_type": "code",
   "execution_count": 64,
   "metadata": {},
   "outputs": [
    {
     "data": {
      "text/plain": [
       "\"spam's\""
      ]
     },
     "execution_count": 64,
     "metadata": {},
     "output_type": "execute_result"
    }
   ],
   "source": [
    "s2.rstrip( )"
   ]
  },
  {
   "cell_type": "code",
   "execution_count": 65,
   "metadata": {},
   "outputs": [
    {
     "data": {
      "text/plain": [
       "\"sxxm's\""
      ]
     },
     "execution_count": 65,
     "metadata": {},
     "output_type": "execute_result"
    }
   ],
   "source": [
    "s2.replace('pa', 'xx')\n"
   ]
  },
  {
   "cell_type": "code",
   "execution_count": 66,
   "metadata": {},
   "outputs": [
    {
     "data": {
      "text/plain": [
       "['']"
      ]
     },
     "execution_count": 66,
     "metadata": {},
     "output_type": "execute_result"
    }
   ],
   "source": [
    "s1.split(',')\n"
   ]
  },
  {
   "cell_type": "code",
   "execution_count": 67,
   "metadata": {},
   "outputs": [
    {
     "data": {
      "text/plain": [
       "False"
      ]
     },
     "execution_count": 67,
     "metadata": {},
     "output_type": "execute_result"
    }
   ],
   "source": [
    "s1.isdigit( )"
   ]
  },
  {
   "cell_type": "code",
   "execution_count": 68,
   "metadata": {},
   "outputs": [
    {
     "data": {
      "text/plain": [
       "''"
      ]
     },
     "execution_count": 68,
     "metadata": {},
     "output_type": "execute_result"
    }
   ],
   "source": [
    "s1.lower( )"
   ]
  },
  {
   "cell_type": "code",
   "execution_count": 73,
   "metadata": {},
   "outputs": [
    {
     "ename": "SyntaxError",
     "evalue": "invalid syntax (<ipython-input-73-a3ff8e855303>, line 1)",
     "output_type": "error",
     "traceback": [
      "\u001b[1;36m  File \u001b[1;32m\"<ipython-input-73-a3ff8e855303>\"\u001b[1;36m, line \u001b[1;32m1\u001b[0m\n\u001b[1;33m    for x in range(len(s2))\u001b[0m\n\u001b[1;37m                           ^\u001b[0m\n\u001b[1;31mSyntaxError\u001b[0m\u001b[1;31m:\u001b[0m invalid syntax\n"
     ]
    }
   ],
   "source": [
    "for x in range(len(s2))\n",
    "    'spam' in s2"
   ]
  },
  {
   "cell_type": "code",
   "execution_count": 74,
   "metadata": {},
   "outputs": [
    {
     "data": {
      "text/plain": [
       "'C:\\\\new\\\\test.spm'"
      ]
     },
     "execution_count": 74,
     "metadata": {},
     "output_type": "execute_result"
    }
   ],
   "source": [
    "r\"C:\\new\\test.spm\"\n"
   ]
  },
  {
   "cell_type": "code",
   "execution_count": 75,
   "metadata": {},
   "outputs": [
    {
     "data": {
      "text/plain": [
       "'eggs spam'"
      ]
     },
     "execution_count": 75,
     "metadata": {},
     "output_type": "execute_result"
    }
   ],
   "source": [
    "u'eggs\\u0020spam'"
   ]
  },
  {
   "cell_type": "code",
   "execution_count": 76,
   "metadata": {},
   "outputs": [
    {
     "data": {
      "text/plain": [
       "'s\\tp\\na\\x00m'"
      ]
     },
     "execution_count": 76,
     "metadata": {},
     "output_type": "execute_result"
    }
   ],
   "source": [
    "\"s\\tp\\na\\0m\""
   ]
  },
  {
   "cell_type": "code",
   "execution_count": 77,
   "metadata": {},
   "outputs": [
    {
     "data": {
      "text/plain": [
       "('... spam ...', '... spam ...')"
      ]
     },
     "execution_count": 77,
     "metadata": {},
     "output_type": "execute_result"
    }
   ],
   "source": [
    "'''... spam ...''', \"\"\"... spam ...\"\"\""
   ]
  },
  {
   "cell_type": "code",
   "execution_count": 78,
   "metadata": {},
   "outputs": [
    {
     "data": {
      "text/plain": [
       "\"spa'm\""
      ]
     },
     "execution_count": 78,
     "metadata": {},
     "output_type": "execute_result"
    }
   ],
   "source": [
    "\"spa'm\""
   ]
  },
  {
   "cell_type": "code",
   "execution_count": 79,
   "metadata": {},
   "outputs": [
    {
     "data": {
      "text/plain": [
       "'spa\"m'"
      ]
     },
     "execution_count": 79,
     "metadata": {},
     "output_type": "execute_result"
    }
   ],
   "source": [
    "'spa\"m'"
   ]
  },
  {
   "cell_type": "code",
   "execution_count": 80,
   "metadata": {},
   "outputs": [
    {
     "data": {
      "text/plain": [
       "('shrubbery', 'shrubbery')"
      ]
     },
     "execution_count": 80,
     "metadata": {},
     "output_type": "execute_result"
    }
   ],
   "source": [
    "'shrubbery', \"shrubbery\""
   ]
  },
  {
   "cell_type": "code",
   "execution_count": 81,
   "metadata": {},
   "outputs": [
    {
     "data": {
      "text/plain": [
       "('knight\"s', \"knight's\")"
      ]
     },
     "execution_count": 81,
     "metadata": {},
     "output_type": "execute_result"
    }
   ],
   "source": [
    "'knight\"s', \"knight's\""
   ]
  },
  {
   "cell_type": "code",
   "execution_count": 82,
   "metadata": {},
   "outputs": [
    {
     "data": {
      "text/plain": [
       "'Meaning of Life'"
      ]
     },
     "execution_count": 82,
     "metadata": {},
     "output_type": "execute_result"
    }
   ],
   "source": [
    "title = \"Meaning \" 'of' \" Life\" # Implicit concatenation\n",
    "title"
   ]
  },
  {
   "cell_type": "code",
   "execution_count": 83,
   "metadata": {},
   "outputs": [
    {
     "data": {
      "text/plain": [
       "(\"knight's\", 'knight\"s')"
      ]
     },
     "execution_count": 83,
     "metadata": {},
     "output_type": "execute_result"
    }
   ],
   "source": [
    "'knight\\'s', \"knight\\\"s\""
   ]
  },
  {
   "cell_type": "code",
   "execution_count": 84,
   "metadata": {},
   "outputs": [],
   "source": [
    "s = 'a\\nb\\tc'"
   ]
  },
  {
   "cell_type": "code",
   "execution_count": 85,
   "metadata": {},
   "outputs": [
    {
     "data": {
      "text/plain": [
       "'a\\nb\\tc'"
      ]
     },
     "execution_count": 85,
     "metadata": {},
     "output_type": "execute_result"
    }
   ],
   "source": [
    "s"
   ]
  },
  {
   "cell_type": "code",
   "execution_count": 87,
   "metadata": {},
   "outputs": [
    {
     "name": "stdout",
     "output_type": "stream",
     "text": [
      "a\n",
      "b\tc\n"
     ]
    }
   ],
   "source": [
    "print (s)"
   ]
  },
  {
   "cell_type": "code",
   "execution_count": 88,
   "metadata": {},
   "outputs": [
    {
     "data": {
      "text/plain": [
       "5"
      ]
     },
     "execution_count": 88,
     "metadata": {},
     "output_type": "execute_result"
    }
   ],
   "source": [
    "len(s)"
   ]
  },
  {
   "cell_type": "code",
   "execution_count": 89,
   "metadata": {},
   "outputs": [
    {
     "data": {
      "text/plain": [
       "'a\\x00b\\x00c'"
      ]
     },
     "execution_count": 89,
     "metadata": {},
     "output_type": "execute_result"
    }
   ],
   "source": [
    "s = 'a\\0b\\0c'\n",
    "s"
   ]
  },
  {
   "cell_type": "code",
   "execution_count": 90,
   "metadata": {},
   "outputs": [
    {
     "data": {
      "text/plain": [
       "5"
      ]
     },
     "execution_count": 90,
     "metadata": {},
     "output_type": "execute_result"
    }
   ],
   "source": [
    "len(s)"
   ]
  },
  {
   "cell_type": "code",
   "execution_count": 92,
   "metadata": {},
   "outputs": [
    {
     "data": {
      "text/plain": [
       "'C:\\\\py\\\\code'"
      ]
     },
     "execution_count": 92,
     "metadata": {},
     "output_type": "execute_result"
    }
   ],
   "source": [
    "x = \"C:\\py\\code\" # Keeps \\ literally\n",
    "x\n"
   ]
  },
  {
   "cell_type": "code",
   "execution_count": 93,
   "metadata": {},
   "outputs": [
    {
     "data": {
      "text/plain": [
       "10"
      ]
     },
     "execution_count": 93,
     "metadata": {},
     "output_type": "execute_result"
    }
   ],
   "source": [
    "len(x)"
   ]
  },
  {
   "cell_type": "code",
   "execution_count": 94,
   "metadata": {},
   "outputs": [
    {
     "data": {
      "text/plain": [
       "'C:\\\\new\\\\text.dat'"
      ]
     },
     "execution_count": 94,
     "metadata": {},
     "output_type": "execute_result"
    }
   ],
   "source": [
    "path = r'C:\\new\\text.dat'\n",
    "path"
   ]
  },
  {
   "cell_type": "code",
   "execution_count": 96,
   "metadata": {},
   "outputs": [
    {
     "name": "stdout",
     "output_type": "stream",
     "text": [
      "C:\\new\\text.dat\n"
     ]
    }
   ],
   "source": [
    "print (path)"
   ]
  },
  {
   "cell_type": "code",
   "execution_count": 97,
   "metadata": {},
   "outputs": [
    {
     "data": {
      "text/plain": [
       "15"
      ]
     },
     "execution_count": 97,
     "metadata": {},
     "output_type": "execute_result"
    }
   ],
   "source": [
    "len(path)"
   ]
  },
  {
   "cell_type": "code",
   "execution_count": 98,
   "metadata": {},
   "outputs": [],
   "source": [
    "mantra = \"\"\"Always look\n",
    "... on the bright\n",
    "... side of life.\"\"\""
   ]
  },
  {
   "cell_type": "code",
   "execution_count": 99,
   "metadata": {},
   "outputs": [
    {
     "data": {
      "text/plain": [
       "'Always look\\non the bright\\nside of life.'"
      ]
     },
     "execution_count": 99,
     "metadata": {},
     "output_type": "execute_result"
    }
   ],
   "source": [
    "mantra"
   ]
  },
  {
   "cell_type": "code",
   "execution_count": 100,
   "metadata": {},
   "outputs": [
    {
     "data": {
      "text/plain": [
       "'spam'"
      ]
     },
     "execution_count": 100,
     "metadata": {},
     "output_type": "execute_result"
    }
   ],
   "source": [
    "u'spam'"
   ]
  },
  {
   "cell_type": "code",
   "execution_count": 101,
   "metadata": {},
   "outputs": [
    {
     "data": {
      "text/plain": [
       "'nispam'"
      ]
     },
     "execution_count": 101,
     "metadata": {},
     "output_type": "execute_result"
    }
   ],
   "source": [
    "'ni' + u'spam'"
   ]
  },
  {
   "cell_type": "code",
   "execution_count": 102,
   "metadata": {},
   "outputs": [
    {
     "data": {
      "text/plain": [
       "'spam'"
      ]
     },
     "execution_count": 102,
     "metadata": {},
     "output_type": "execute_result"
    }
   ],
   "source": [
    "str(u'spam') "
   ]
  },
  {
   "cell_type": "code",
   "execution_count": 108,
   "metadata": {},
   "outputs": [
    {
     "data": {
      "text/plain": [
       "'ab cd'"
      ]
     },
     "execution_count": 108,
     "metadata": {},
     "output_type": "execute_result"
    }
   ],
   "source": [
    "u'ab\\U00000020cd'"
   ]
  },
  {
   "cell_type": "code",
   "execution_count": 110,
   "metadata": {},
   "outputs": [
    {
     "data": {
      "text/plain": [
       "3"
      ]
     },
     "execution_count": 110,
     "metadata": {},
     "output_type": "execute_result"
    }
   ],
   "source": [
    "\n",
    "len('abc') "
   ]
  },
  {
   "cell_type": "code",
   "execution_count": 111,
   "metadata": {},
   "outputs": [
    {
     "data": {
      "text/plain": [
       "'Ni!Ni!Ni!Ni!'"
      ]
     },
     "execution_count": 111,
     "metadata": {},
     "output_type": "execute_result"
    }
   ],
   "source": [
    "'Ni!' * 4"
   ]
  },
  {
   "cell_type": "code",
   "execution_count": 112,
   "metadata": {},
   "outputs": [
    {
     "name": "stdout",
     "output_type": "stream",
     "text": [
      "------- ...more... ---\n"
     ]
    }
   ],
   "source": [
    "print ('------- ...more... ---')"
   ]
  },
  {
   "cell_type": "code",
   "execution_count": 115,
   "metadata": {},
   "outputs": [
    {
     "name": "stdout",
     "output_type": "stream",
     "text": [
      "h\n",
      "a\n",
      "c\n",
      "k\n",
      "e\n",
      "r\n"
     ]
    }
   ],
   "source": [
    "myjob = \"hacker\"\n",
    "for c in myjob: print (c)"
   ]
  },
  {
   "cell_type": "code",
   "execution_count": 116,
   "metadata": {},
   "outputs": [
    {
     "data": {
      "text/plain": [
       "True"
      ]
     },
     "execution_count": 116,
     "metadata": {},
     "output_type": "execute_result"
    }
   ],
   "source": [
    "\"k\" in myjob"
   ]
  },
  {
   "cell_type": "code",
   "execution_count": 117,
   "metadata": {},
   "outputs": [
    {
     "data": {
      "text/plain": [
       "False"
      ]
     },
     "execution_count": 117,
     "metadata": {},
     "output_type": "execute_result"
    }
   ],
   "source": [
    "\"z\" in myjob"
   ]
  },
  {
   "cell_type": "code",
   "execution_count": 118,
   "metadata": {},
   "outputs": [
    {
     "data": {
      "text/plain": [
       "'bdfhj'"
      ]
     },
     "execution_count": 118,
     "metadata": {},
     "output_type": "execute_result"
    }
   ],
   "source": [
    "S = 'abcdefghijklmnop'\n",
    "S[1:10:2]"
   ]
  },
  {
   "cell_type": "code",
   "execution_count": 119,
   "metadata": {},
   "outputs": [
    {
     "data": {
      "text/plain": [
       "(42, '42')"
      ]
     },
     "execution_count": 119,
     "metadata": {},
     "output_type": "execute_result"
    }
   ],
   "source": [
    "int(\"42\"), str(42)"
   ]
  },
  {
   "cell_type": "code",
   "execution_count": 121,
   "metadata": {},
   "outputs": [
    {
     "data": {
      "text/plain": [
       "('42', '42')"
      ]
     },
     "execution_count": 121,
     "metadata": {},
     "output_type": "execute_result"
    }
   ],
   "source": [
    "repr(42), '42'"
   ]
  },
  {
   "cell_type": "code",
   "execution_count": 122,
   "metadata": {},
   "outputs": [
    {
     "data": {
      "text/plain": [
       "('3.1415', 1.5)"
      ]
     },
     "execution_count": 122,
     "metadata": {},
     "output_type": "execute_result"
    }
   ],
   "source": [
    "str(3.1415), float(\"1.5\")"
   ]
  },
  {
   "cell_type": "code",
   "execution_count": 123,
   "metadata": {},
   "outputs": [
    {
     "data": {
      "text/plain": [
       "1.234e-10"
      ]
     },
     "execution_count": 123,
     "metadata": {},
     "output_type": "execute_result"
    }
   ],
   "source": [
    "text = \"1.234E-10\"\n",
    "float(text)"
   ]
  },
  {
   "cell_type": "code",
   "execution_count": 125,
   "metadata": {},
   "outputs": [
    {
     "ename": "IndentationError",
     "evalue": "unexpected indent (<ipython-input-125-236f618e1348>, line 3)",
     "output_type": "error",
     "traceback": [
      "\u001b[1;36m  File \u001b[1;32m\"<ipython-input-125-236f618e1348>\"\u001b[1;36m, line \u001b[1;32m3\u001b[0m\n\u001b[1;33m    while B:\u001b[0m\n\u001b[1;37m    ^\u001b[0m\n\u001b[1;31mIndentationError\u001b[0m\u001b[1;31m:\u001b[0m unexpected indent\n"
     ]
    }
   ],
   "source": [
    "B = '1101'\n",
    "I = 0\n",
    " while B:\n",
    "    I = I * 2 + (ord(B[0]) - ord('0'))\n",
    "    B = B[1:]\n",
    "\n",
    "I"
   ]
  },
  {
   "cell_type": "code",
   "execution_count": 126,
   "metadata": {},
   "outputs": [
    {
     "data": {
      "text/plain": [
       "'abcdBurgerp'"
      ]
     },
     "execution_count": 126,
     "metadata": {},
     "output_type": "execute_result"
    }
   ],
   "source": [
    "S = S[:4] + 'Burger' + S[-1]\n",
    "S"
   ]
  },
  {
   "cell_type": "code",
   "execution_count": 127,
   "metadata": {},
   "outputs": [
    {
     "data": {
      "text/plain": [
       "'spamalot'"
      ]
     },
     "execution_count": 127,
     "metadata": {},
     "output_type": "execute_result"
    }
   ],
   "source": [
    "S = 'splot'\n",
    "S = S.replace('pl', 'pamal')\n",
    "S"
   ]
  },
  {
   "cell_type": "code",
   "execution_count": 128,
   "metadata": {},
   "outputs": [
    {
     "data": {
      "text/plain": [
       "'That is 1 dead bird!'"
      ]
     },
     "execution_count": 128,
     "metadata": {},
     "output_type": "execute_result"
    }
   ],
   "source": [
    "'That is %d %s bird!' % (1, 'dead')"
   ]
  },
  {
   "cell_type": "code",
   "execution_count": 129,
   "metadata": {},
   "outputs": [
    {
     "data": {
      "text/plain": [
       "'The knights who say Ni!'"
      ]
     },
     "execution_count": 129,
     "metadata": {},
     "output_type": "execute_result"
    }
   ],
   "source": [
    "exclamation = \"Ni\"\n",
    "\"The knights who say %s!\" % exclamation"
   ]
  },
  {
   "cell_type": "code",
   "execution_count": 130,
   "metadata": {},
   "outputs": [
    {
     "data": {
      "text/plain": [
       "'42 -- 3.14159 -- [1, 2, 3]'"
      ]
     },
     "execution_count": 130,
     "metadata": {},
     "output_type": "execute_result"
    }
   ],
   "source": [
    "\"%s -- %s -- %s\" % (42, 3.14159, [1, 2, 3])"
   ]
  },
  {
   "cell_type": "code",
   "execution_count": 131,
   "metadata": {},
   "outputs": [
    {
     "data": {
      "text/plain": [
       "'integers: ...1234...1234  ...001234'"
      ]
     },
     "execution_count": 131,
     "metadata": {},
     "output_type": "execute_result"
    }
   ],
   "source": [
    "x = 1234\n",
    "res = \"integers: ...%d...%-6d...%06d\" % (x, x, x)\n",
    "res\n"
   ]
  },
  {
   "cell_type": "code",
   "execution_count": 132,
   "metadata": {},
   "outputs": [
    {
     "data": {
      "text/plain": [
       "'1234.00 | 1234.00 | +1234.0'"
      ]
     },
     "execution_count": 132,
     "metadata": {},
     "output_type": "execute_result"
    }
   ],
   "source": [
    "'%-6.2f | %05.2f | %+06.1f' % (x, x, x)"
   ]
  },
  {
   "cell_type": "code",
   "execution_count": 134,
   "metadata": {},
   "outputs": [
    {
     "data": {
      "text/plain": [
       "{'__name__': '__main__',\n",
       " '__doc__': 'Automatically created module for IPython interactive environment',\n",
       " '__package__': None,\n",
       " '__loader__': None,\n",
       " '__spec__': None,\n",
       " '__builtin__': <module 'builtins' (built-in)>,\n",
       " '__builtins__': <module 'builtins' (built-in)>,\n",
       " '_ih': ['',\n",
       "  'a = input() # always returns string\\nprint(a)',\n",
       "  'a = input(\"Enter a value: \")\\nprint(a)',\n",
       "  'myjob = \"bangladesh\"\\nfor c in \\'myjob\\': \\n    print(c,end=\\'\\\\n\\')',\n",
       "  'myjob = \"bangladesh\"\\nfor c in myjob: \\n    print(c,end=\\'\\\\n\\')',\n",
       "  'myjob = \"bangladesh\"\\nfor c in \\'myjob\\': \\n    print(c,end=\\'\\\\n\\')',\n",
       "  \"# if\\na = 1\\nif a > 2:\\n    print ('greater')\",\n",
       "  \"# if\\na = 1\\nif a > 2:\\n    print ('greater')\",\n",
       "  \"# if\\na = 1\\nif a > 2:\\n    print ('greater')\",\n",
       "  \"# if-else\\na = 1\\nif a > 2:\\n    print ('greater')\\nelse:\\n    print( 'smaller')\",\n",
       "  '# define method\\ndef addnumbers(a, b): # add numbers and return result\\n    # logic\\n    c = a + b\\n    return c',\n",
       "  'def addNumbers(num1, num2):\\n    newlist = num1\\n    for n1 in num1:\\n        sum = newlist + num2\\n    return newlist\\n    ',\n",
       "  'def addNumbers(num1, num2):\\n    newlist = num1\\n    for n1 in num1:\\n        sum = newlist + num2\\n    return newlist\\n    ',\n",
       "  'n1 = [1,2,3,4]\\nn2 = [5,6,7,8]\\naddNumbers(n1, n2)',\n",
       "  'n1 = [1,2,3,4]\\nn2 = [5,6,7,8]\\naddNumbers(n1, n2)',\n",
       "  'def addNumbers(num1, num2):\\n    newlist = num1\\n    for n in num2:\\n        sum = newlist + num2\\n    return newlist\\n    ',\n",
       "  'n1 = [1,2,3,4]\\nn2 = [5,6,7,8]\\naddNumbers(n1, n2)',\n",
       "  'def addNumbers(num1, num2):\\n    newlist = num1\\n    for n in num2:\\n        sum = newlist + num2\\n    return sum\\n    ',\n",
       "  'n1 = [1,2,3,4]\\nn2 = [5,6,7,8]\\naddNumbers(n1, n2)',\n",
       "  'def addNumbers(num1, num2):\\n    newlist = num1\\n    for n in num2:\\n        for n in num1:\\n        sum = newlist + num2\\n    return sum\\n    ',\n",
       "  'def addNumbers(num1, num2):\\n    sum = 0\\n    for n in num2:\\n        for n in num1:\\n        sum = num1 + num2\\n    return sum\\n    ',\n",
       "  'def addNumbers(num1, num2):\\n    sum = 0\\n    for n in num2:\\n        for m in num1:\\n        sum = num1 + num2\\n    return sum\\n    ',\n",
       "  'def addNumbers(num1, num2):\\n    sum = 0\\n    for n in num1:\\n        for m in num2:\\n        sum = num1 + num2\\n    return sum\\n    ',\n",
       "  'def addNumbers(num1, num2):\\n    sum = num1\\n    for n in num1:\\n        for m in num2:\\n        sum = num1 + num2\\n    return sum\\n    ',\n",
       "  'def addNumbers(num1, num2):\\n    sum = num1\\n    for n in num1:\\n        for m in num2:\\n        sum.append(num1 + num2)\\n    return sum\\n    ',\n",
       "  'def addNumbers(num1, num2):\\n    sum = num1\\n    for n in num1:\\n        for m in num2:\\n            for (num1, num2) in zip(addNumbers):\\n        sum.append(num1 + num2)\\n    return sum\\n    ',\n",
       "  'def addNumbers(num1, num2):\\n    zipped_lists = zip(list1, list2)\\n        sum = [x + y for (x, y) in zipped_lists]\\n    return sum\\n    ',\n",
       "  'def addNumbers(num1, num2):\\n    list = zip(num1, num2)\\n        sum = [x + y for (x, y) in list]\\n    return sum\\n    ',\n",
       "  'def addNumbers(num1, num2):\\n    list = zip(num1, num2)\\n        sum = [i + j for (i, j) in list]\\n    return sum\\n    ',\n",
       "  'def addNumbers(num1, num2):\\n    list = zip(num1, num2)\\n        for n in num1:\\n            for m in num2:\\n            sum = [list]\\n    \\n    return sum\\n    ',\n",
       "  'def addNumbers(num1, num2):\\n    list = zip(num1, num2)\\n            for n in num1:\\n            for m in num2:\\n            sum = [list]\\n    \\n    return sum\\n    ',\n",
       "  'def getNames(parts)\\n    Name=parts.split(maxsplit=3)\\n    if len(Name)==3:\\n        first,last = parts\\n    else:\\n        first = parts[0]\\n        last = parts[-1]\\n    return first,last',\n",
       "  'def getNames(parts)\\n    Name=parts.split(maxsplit=3)\\n    if len(Name)==3:\\n        first,last = parts\\n    else:\\n        first = parts[0]\\n        last = parts[-1]\\n    return getNames',\n",
       "  'def getNames()\\n    Name=parts.split(maxsplit=3)\\n    if len(Name)==3:\\n        first,last = parts\\n    else:\\n        first = parts[0]\\n        last = parts[-1]\\n    return ',\n",
       "  'def addNumbers(num1, num2):\\n    newlist = num1\\n         for n in num1:\\n            newlist.append(num2)\\n    \\n    return newlist\\n    ',\n",
       "  'def addNumbers(num1, num2):\\n    newlist = num1\\n         for n in num1:\\n            newlist.append(num1+num2)\\n    \\n    return newlist\\n    ',\n",
       "  'def getNames(name)\\n    parts = name.split(maxsplit=3)\\n    if len(parts)==3:\\n        first,last = parts\\n    else:\\n        first = parts[0]\\n        last = parts[-1]\\n    return (first,last)',\n",
       "  'def addNumbers(num1, num2):\\n    newlist = num1[x]\\n         for n in num1:\\n            newlist.append(num1+num2)\\n    \\n    return newlist\\n    ',\n",
       "  'def addNumbers(num1, num2):\\n    newlist = num1[x]\\n         for x in num1:\\n            newlist.append(num1+num2)\\n    \\n    return newlist\\n    ',\n",
       "  'def addNumbers(num1, num2):\\n    newlist = num1[x]\\n         for n in num1:\\n            newlist.append(num1+num2)\\n    \\n    return newlist\\n    ',\n",
       "  'def addNumbers(num1, num2):\\n    newlist = []\\n         for n in num1:\\n            newlist.append(num1[x]+num2[x])\\n    \\n    return newlist\\n    ',\n",
       "  'def addNumbers(num1, num2):\\n    newlist = []\\n         for n in num1:\\n            newlist.append(num1[x]+num2[x])\\n    \\n    return newlist\\n    ',\n",
       "  \"s1 = ''\",\n",
       "  's2 = \"spam\\'s\"',\n",
       "  'block = \"\"\"...\"\"\"',\n",
       "  'def addNumbers(num1, num2):\\n    newlist = []\\n         for x in range(len(num1)):\\n            newlist.append(num1[x]+num2[x])\\n    \\n    return newlist\\n    ',\n",
       "  'def addNumbers(num1, num2):\\n    newlist = []\\n         for x in range(len(num1)):\\n            newlist.append(num1[x]+num2[x])\\n    \\n    return newlist\\n\\nu=[1,2,3,4]\\nv =[5,6,7,8]\\nprint(addNumbers(u,v))\\n    ',\n",
       "  'def addNumbers(num1, num2):\\n    newlist = []\\n    for x in range(len(num1)):\\n        newlist.append(num1[x]+num2[x])\\n    \\n    return newlist\\n\\nu=[1,2,3,4]\\nv =[5,6,7,8]\\nprint(addNumbers(u,v))\\n    ',\n",
       "  \"s3 = r'\\\\temp\\\\spam'\",\n",
       "  \"s4 = u'spam'\",\n",
       "  \"def getNames(name)\\n    parts = name.split(maxsplit=3)\\n    if len(parts)==3:\\n        first,last = parts\\n    else:\\n        first = parts[0]\\n        print('First Name: '+ first)\\n        last = parts[-1]\\n        print('Last Name: '+ last)\\n    return (first,last)\\n\\nName = 'Sanjida Alam'\\nprint(getNames[first,Last])\",\n",
       "  \"def getNames(string)\\n    parts = name.split(maxsplit=3)\\n    if len(parts)==3:\\n        first,last = parts\\n    else:\\n        first = parts[0]\\n        print('First Name: '+ first)\\n        last = parts[-1]\\n        print('Last Name: '+ last)\\n    return (first,last)\\n\\nName = 'Sanjida Alam'\\nprint(getNames[first,Last])\",\n",
       "  \"def getNames(value)\\n    parts = value.split(maxsplit=3)\\n    if len(parts)==3:\\n        first,last = parts\\n    else:\\n        first = parts[0]\\n        print('First Name: '+ first)\\n        last = parts[-1]\\n        print('Last Name: '+ last)\\n    return (first,last)\\n\\na = 'Sanjida Alam'\\nprint(getNames[first,Last])\",\n",
       "  's1 + s2',\n",
       "  's2 * 3',\n",
       "  's2[i]',\n",
       "  'i=0\\ns2[i]',\n",
       "  \"def name(first_name, last_name):\\n    return first_name + ' ' + last_name\\n\\nfull_name = name('Sanjida','Alam')\\nprint(full_name)\",\n",
       "  'def name(first_name, last_name):\\n    return first_name + \\' \\' + last_name\\n\\nfull_name = name(\\'Sanjida\\',\\'Alam\\')\\nprint(full_name)\\n\\ndef getNames(name):\\n    first, *last = name.split()\\n    print(\"First Name: {first}\".format(first=first))\\n    print(\"Last Name: {last}\".format(last=\" \".join(last)))\\n    \\ngetNames(\\'Sanjida Alam\\')',\n",
       "  's2[i:j]',\n",
       "  'j= -1\\ns2[i:j]',\n",
       "  'len(s2)',\n",
       "  '\"a %s parrot\" % type',\n",
       "  \"s2.find('pa')\",\n",
       "  's2.rstrip( )',\n",
       "  \"s2.replace('pa', 'xx')\",\n",
       "  \"s1.split(',')\",\n",
       "  's1.isdigit( )',\n",
       "  's1.lower( )',\n",
       "  \"for x in s2\\n'spam' in s2\",\n",
       "  'for x in s2',\n",
       "  \"for x in s2\\n'spam' in s2\",\n",
       "  \"for x in s2\\n    'spam' in s2\",\n",
       "  \"for x in range(len(s2))\\n    'spam' in s2\",\n",
       "  'r\"C:\\\\new\\\\test.spm\"',\n",
       "  \"u'eggs\\\\u0020spam'\",\n",
       "  '\"s\\\\tp\\\\na\\\\0m\"',\n",
       "  '\\'\\'\\'... spam ...\\'\\'\\', \"\"\"... spam ...\"\"\"',\n",
       "  '\"spa\\'m\"',\n",
       "  '\\'spa\"m\\'',\n",
       "  '\\'shrubbery\\', \"shrubbery\"',\n",
       "  '\\'knight\"s\\', \"knight\\'s\"',\n",
       "  'title = \"Meaning \" \\'of\\' \" Life\" # Implicit concatenation\\ntitle',\n",
       "  '\\'knight\\\\\\'s\\', \"knight\\\\\"s\"',\n",
       "  \"s = 'a\\\\nb\\\\tc'\",\n",
       "  's',\n",
       "  'print s',\n",
       "  'print (s)',\n",
       "  'len(s)',\n",
       "  \"s = 'a\\\\0b\\\\0c'\\ns\",\n",
       "  'len(s)',\n",
       "  'x = \"C:\\\\py\\\\code\" # Keeps \\\\ literally\\nx\\nlen(x)',\n",
       "  'x = \"C:\\\\py\\\\code\" # Keeps \\\\ literally\\nx',\n",
       "  'len(x)',\n",
       "  \"path = r'C:\\\\new\\\\text.dat'\\npath\",\n",
       "  'print path',\n",
       "  'print (path)',\n",
       "  'len(path)',\n",
       "  'mantra = \"\"\"Always look\\non the bright\\nside of life.\"\"\"',\n",
       "  'mantra',\n",
       "  \"u'spam'\",\n",
       "  \"'ni' + u'spam'\",\n",
       "  \"str(u'spam') \",\n",
       "  \"unicode('spam')\",\n",
       "  \"unicode = u\\nunicode('spam')\",\n",
       "  \"unicode = 0\\nunicode('spam')\",\n",
       "  \"class unicode\\nunicode.('spam')\",\n",
       "  \"class unicode()\\nunicode.('spam')\",\n",
       "  \"u'ab\\\\U00000020cd'\",\n",
       "  \"get_ipython().run_line_magic('', 'python')\\nlen('abc') \",\n",
       "  \"len('abc') \",\n",
       "  \"'Ni!' * 4\",\n",
       "  \"print ('------- ...more... ---')\",\n",
       "  'myjob = \"hacker\"\\nfor c in myjob: print c,',\n",
       "  'myjob = \"hacker\"\\nfor c in myjob: print c,. . .',\n",
       "  'myjob = \"hacker\"\\nfor c in myjob: print (c)',\n",
       "  '\"k\" in myjob',\n",
       "  '\"z\" in myjob',\n",
       "  \"S = 'abcdefghijklmnop'\\nS[1:10:2]\",\n",
       "  'int(\"42\"), str(42)',\n",
       "  'repr(42), `42`',\n",
       "  \"repr(42), '42'\",\n",
       "  'str(3.1415), float(\"1.5\")',\n",
       "  'text = \"1.234E-10\"\\nfloat(text)',\n",
       "  \"B = '1101'\\nI = 0\\n while B:\\n... I = I * 2 + (ord(B[0]) - ord('0'))\\n... B = B[1:]\\n...\\nI\",\n",
       "  \"B = '1101'\\nI = 0\\n while B:\\n    I = I * 2 + (ord(B[0]) - ord('0'))\\n    B = B[1:]\\n\\nI\",\n",
       "  \"S = S[:4] + 'Burger' + S[-1]\\nS\",\n",
       "  \"S = 'splot'\\nS = S.replace('pl', 'pamal')\\nS\",\n",
       "  \"'That is %d %s bird!' % (1, 'dead')\",\n",
       "  'exclamation = \"Ni\"\\n\"The knights who say %s!\" % exclamation',\n",
       "  '\"%s -- %s -- %s\" % (42, 3.14159, [1, 2, 3])',\n",
       "  'x = 1234\\nres = \"integers: ...%d...%-6d...%06d\" % (x, x, x)\\nres',\n",
       "  \"'%-6.2f | %05.2f | %+06.1f' % (x, x, x)\",\n",
       "  'reply = \"\"\"\\nGreetings...\\nHello %(name)s!\\nYour age squared is %(age)s\\n\"\"\"\\nvalues = {\\'name\\': \\'Bob\\', \\'age\\': 40}\\nprint reply % values',\n",
       "  \"food = 'spam'\\nage = 40\\nvars( )\"],\n",
       " '_oh': {13: [1, 2, 3, 4],\n",
       "  14: [1, 2, 3, 4],\n",
       "  16: [1, 2, 3, 4],\n",
       "  18: [1, 2, 3, 4, 5, 6, 7, 8],\n",
       "  53: \"spam's\",\n",
       "  54: \"spam'sspam'sspam's\",\n",
       "  56: 's',\n",
       "  60: \"spam'\",\n",
       "  61: 6,\n",
       "  62: \"a <class 'type'> parrot\",\n",
       "  63: 1,\n",
       "  64: \"spam's\",\n",
       "  65: \"sxxm's\",\n",
       "  66: [''],\n",
       "  67: False,\n",
       "  68: '',\n",
       "  74: 'C:\\\\new\\\\test.spm',\n",
       "  75: 'eggs spam',\n",
       "  76: 's\\tp\\na\\x00m',\n",
       "  77: ('... spam ...', '... spam ...'),\n",
       "  78: \"spa'm\",\n",
       "  79: 'spa\"m',\n",
       "  80: ('shrubbery', 'shrubbery'),\n",
       "  81: ('knight\"s', \"knight's\"),\n",
       "  82: 'Meaning of Life',\n",
       "  83: (\"knight's\", 'knight\"s'),\n",
       "  85: 'a\\nb\\tc',\n",
       "  88: 5,\n",
       "  89: 'a\\x00b\\x00c',\n",
       "  90: 5,\n",
       "  91: 10,\n",
       "  92: 'C:\\\\py\\\\code',\n",
       "  93: 10,\n",
       "  94: 'C:\\\\new\\\\text.dat',\n",
       "  97: 15,\n",
       "  99: 'Always look\\non the bright\\nside of life.',\n",
       "  100: 'spam',\n",
       "  101: 'nispam',\n",
       "  102: 'spam',\n",
       "  108: 'ab cd',\n",
       "  110: 3,\n",
       "  111: 'Ni!Ni!Ni!Ni!',\n",
       "  116: True,\n",
       "  117: False,\n",
       "  118: 'bdfhj',\n",
       "  119: (42, '42'),\n",
       "  121: ('42', '42'),\n",
       "  122: ('3.1415', 1.5),\n",
       "  123: 1.234e-10,\n",
       "  126: 'abcdBurgerp',\n",
       "  127: 'spamalot',\n",
       "  128: 'That is 1 dead bird!',\n",
       "  129: 'The knights who say Ni!',\n",
       "  130: '42 -- 3.14159 -- [1, 2, 3]',\n",
       "  131: 'integers: ...1234...1234  ...001234',\n",
       "  132: '1234.00 | 1234.00 | +1234.0'},\n",
       " '_dh': ['F:\\\\AI'],\n",
       " 'In': ['',\n",
       "  'a = input() # always returns string\\nprint(a)',\n",
       "  'a = input(\"Enter a value: \")\\nprint(a)',\n",
       "  'myjob = \"bangladesh\"\\nfor c in \\'myjob\\': \\n    print(c,end=\\'\\\\n\\')',\n",
       "  'myjob = \"bangladesh\"\\nfor c in myjob: \\n    print(c,end=\\'\\\\n\\')',\n",
       "  'myjob = \"bangladesh\"\\nfor c in \\'myjob\\': \\n    print(c,end=\\'\\\\n\\')',\n",
       "  \"# if\\na = 1\\nif a > 2:\\n    print ('greater')\",\n",
       "  \"# if\\na = 1\\nif a > 2:\\n    print ('greater')\",\n",
       "  \"# if\\na = 1\\nif a > 2:\\n    print ('greater')\",\n",
       "  \"# if-else\\na = 1\\nif a > 2:\\n    print ('greater')\\nelse:\\n    print( 'smaller')\",\n",
       "  '# define method\\ndef addnumbers(a, b): # add numbers and return result\\n    # logic\\n    c = a + b\\n    return c',\n",
       "  'def addNumbers(num1, num2):\\n    newlist = num1\\n    for n1 in num1:\\n        sum = newlist + num2\\n    return newlist\\n    ',\n",
       "  'def addNumbers(num1, num2):\\n    newlist = num1\\n    for n1 in num1:\\n        sum = newlist + num2\\n    return newlist\\n    ',\n",
       "  'n1 = [1,2,3,4]\\nn2 = [5,6,7,8]\\naddNumbers(n1, n2)',\n",
       "  'n1 = [1,2,3,4]\\nn2 = [5,6,7,8]\\naddNumbers(n1, n2)',\n",
       "  'def addNumbers(num1, num2):\\n    newlist = num1\\n    for n in num2:\\n        sum = newlist + num2\\n    return newlist\\n    ',\n",
       "  'n1 = [1,2,3,4]\\nn2 = [5,6,7,8]\\naddNumbers(n1, n2)',\n",
       "  'def addNumbers(num1, num2):\\n    newlist = num1\\n    for n in num2:\\n        sum = newlist + num2\\n    return sum\\n    ',\n",
       "  'n1 = [1,2,3,4]\\nn2 = [5,6,7,8]\\naddNumbers(n1, n2)',\n",
       "  'def addNumbers(num1, num2):\\n    newlist = num1\\n    for n in num2:\\n        for n in num1:\\n        sum = newlist + num2\\n    return sum\\n    ',\n",
       "  'def addNumbers(num1, num2):\\n    sum = 0\\n    for n in num2:\\n        for n in num1:\\n        sum = num1 + num2\\n    return sum\\n    ',\n",
       "  'def addNumbers(num1, num2):\\n    sum = 0\\n    for n in num2:\\n        for m in num1:\\n        sum = num1 + num2\\n    return sum\\n    ',\n",
       "  'def addNumbers(num1, num2):\\n    sum = 0\\n    for n in num1:\\n        for m in num2:\\n        sum = num1 + num2\\n    return sum\\n    ',\n",
       "  'def addNumbers(num1, num2):\\n    sum = num1\\n    for n in num1:\\n        for m in num2:\\n        sum = num1 + num2\\n    return sum\\n    ',\n",
       "  'def addNumbers(num1, num2):\\n    sum = num1\\n    for n in num1:\\n        for m in num2:\\n        sum.append(num1 + num2)\\n    return sum\\n    ',\n",
       "  'def addNumbers(num1, num2):\\n    sum = num1\\n    for n in num1:\\n        for m in num2:\\n            for (num1, num2) in zip(addNumbers):\\n        sum.append(num1 + num2)\\n    return sum\\n    ',\n",
       "  'def addNumbers(num1, num2):\\n    zipped_lists = zip(list1, list2)\\n        sum = [x + y for (x, y) in zipped_lists]\\n    return sum\\n    ',\n",
       "  'def addNumbers(num1, num2):\\n    list = zip(num1, num2)\\n        sum = [x + y for (x, y) in list]\\n    return sum\\n    ',\n",
       "  'def addNumbers(num1, num2):\\n    list = zip(num1, num2)\\n        sum = [i + j for (i, j) in list]\\n    return sum\\n    ',\n",
       "  'def addNumbers(num1, num2):\\n    list = zip(num1, num2)\\n        for n in num1:\\n            for m in num2:\\n            sum = [list]\\n    \\n    return sum\\n    ',\n",
       "  'def addNumbers(num1, num2):\\n    list = zip(num1, num2)\\n            for n in num1:\\n            for m in num2:\\n            sum = [list]\\n    \\n    return sum\\n    ',\n",
       "  'def getNames(parts)\\n    Name=parts.split(maxsplit=3)\\n    if len(Name)==3:\\n        first,last = parts\\n    else:\\n        first = parts[0]\\n        last = parts[-1]\\n    return first,last',\n",
       "  'def getNames(parts)\\n    Name=parts.split(maxsplit=3)\\n    if len(Name)==3:\\n        first,last = parts\\n    else:\\n        first = parts[0]\\n        last = parts[-1]\\n    return getNames',\n",
       "  'def getNames()\\n    Name=parts.split(maxsplit=3)\\n    if len(Name)==3:\\n        first,last = parts\\n    else:\\n        first = parts[0]\\n        last = parts[-1]\\n    return ',\n",
       "  'def addNumbers(num1, num2):\\n    newlist = num1\\n         for n in num1:\\n            newlist.append(num2)\\n    \\n    return newlist\\n    ',\n",
       "  'def addNumbers(num1, num2):\\n    newlist = num1\\n         for n in num1:\\n            newlist.append(num1+num2)\\n    \\n    return newlist\\n    ',\n",
       "  'def getNames(name)\\n    parts = name.split(maxsplit=3)\\n    if len(parts)==3:\\n        first,last = parts\\n    else:\\n        first = parts[0]\\n        last = parts[-1]\\n    return (first,last)',\n",
       "  'def addNumbers(num1, num2):\\n    newlist = num1[x]\\n         for n in num1:\\n            newlist.append(num1+num2)\\n    \\n    return newlist\\n    ',\n",
       "  'def addNumbers(num1, num2):\\n    newlist = num1[x]\\n         for x in num1:\\n            newlist.append(num1+num2)\\n    \\n    return newlist\\n    ',\n",
       "  'def addNumbers(num1, num2):\\n    newlist = num1[x]\\n         for n in num1:\\n            newlist.append(num1+num2)\\n    \\n    return newlist\\n    ',\n",
       "  'def addNumbers(num1, num2):\\n    newlist = []\\n         for n in num1:\\n            newlist.append(num1[x]+num2[x])\\n    \\n    return newlist\\n    ',\n",
       "  'def addNumbers(num1, num2):\\n    newlist = []\\n         for n in num1:\\n            newlist.append(num1[x]+num2[x])\\n    \\n    return newlist\\n    ',\n",
       "  \"s1 = ''\",\n",
       "  's2 = \"spam\\'s\"',\n",
       "  'block = \"\"\"...\"\"\"',\n",
       "  'def addNumbers(num1, num2):\\n    newlist = []\\n         for x in range(len(num1)):\\n            newlist.append(num1[x]+num2[x])\\n    \\n    return newlist\\n    ',\n",
       "  'def addNumbers(num1, num2):\\n    newlist = []\\n         for x in range(len(num1)):\\n            newlist.append(num1[x]+num2[x])\\n    \\n    return newlist\\n\\nu=[1,2,3,4]\\nv =[5,6,7,8]\\nprint(addNumbers(u,v))\\n    ',\n",
       "  'def addNumbers(num1, num2):\\n    newlist = []\\n    for x in range(len(num1)):\\n        newlist.append(num1[x]+num2[x])\\n    \\n    return newlist\\n\\nu=[1,2,3,4]\\nv =[5,6,7,8]\\nprint(addNumbers(u,v))\\n    ',\n",
       "  \"s3 = r'\\\\temp\\\\spam'\",\n",
       "  \"s4 = u'spam'\",\n",
       "  \"def getNames(name)\\n    parts = name.split(maxsplit=3)\\n    if len(parts)==3:\\n        first,last = parts\\n    else:\\n        first = parts[0]\\n        print('First Name: '+ first)\\n        last = parts[-1]\\n        print('Last Name: '+ last)\\n    return (first,last)\\n\\nName = 'Sanjida Alam'\\nprint(getNames[first,Last])\",\n",
       "  \"def getNames(string)\\n    parts = name.split(maxsplit=3)\\n    if len(parts)==3:\\n        first,last = parts\\n    else:\\n        first = parts[0]\\n        print('First Name: '+ first)\\n        last = parts[-1]\\n        print('Last Name: '+ last)\\n    return (first,last)\\n\\nName = 'Sanjida Alam'\\nprint(getNames[first,Last])\",\n",
       "  \"def getNames(value)\\n    parts = value.split(maxsplit=3)\\n    if len(parts)==3:\\n        first,last = parts\\n    else:\\n        first = parts[0]\\n        print('First Name: '+ first)\\n        last = parts[-1]\\n        print('Last Name: '+ last)\\n    return (first,last)\\n\\na = 'Sanjida Alam'\\nprint(getNames[first,Last])\",\n",
       "  's1 + s2',\n",
       "  's2 * 3',\n",
       "  's2[i]',\n",
       "  'i=0\\ns2[i]',\n",
       "  \"def name(first_name, last_name):\\n    return first_name + ' ' + last_name\\n\\nfull_name = name('Sanjida','Alam')\\nprint(full_name)\",\n",
       "  'def name(first_name, last_name):\\n    return first_name + \\' \\' + last_name\\n\\nfull_name = name(\\'Sanjida\\',\\'Alam\\')\\nprint(full_name)\\n\\ndef getNames(name):\\n    first, *last = name.split()\\n    print(\"First Name: {first}\".format(first=first))\\n    print(\"Last Name: {last}\".format(last=\" \".join(last)))\\n    \\ngetNames(\\'Sanjida Alam\\')',\n",
       "  's2[i:j]',\n",
       "  'j= -1\\ns2[i:j]',\n",
       "  'len(s2)',\n",
       "  '\"a %s parrot\" % type',\n",
       "  \"s2.find('pa')\",\n",
       "  's2.rstrip( )',\n",
       "  \"s2.replace('pa', 'xx')\",\n",
       "  \"s1.split(',')\",\n",
       "  's1.isdigit( )',\n",
       "  's1.lower( )',\n",
       "  \"for x in s2\\n'spam' in s2\",\n",
       "  'for x in s2',\n",
       "  \"for x in s2\\n'spam' in s2\",\n",
       "  \"for x in s2\\n    'spam' in s2\",\n",
       "  \"for x in range(len(s2))\\n    'spam' in s2\",\n",
       "  'r\"C:\\\\new\\\\test.spm\"',\n",
       "  \"u'eggs\\\\u0020spam'\",\n",
       "  '\"s\\\\tp\\\\na\\\\0m\"',\n",
       "  '\\'\\'\\'... spam ...\\'\\'\\', \"\"\"... spam ...\"\"\"',\n",
       "  '\"spa\\'m\"',\n",
       "  '\\'spa\"m\\'',\n",
       "  '\\'shrubbery\\', \"shrubbery\"',\n",
       "  '\\'knight\"s\\', \"knight\\'s\"',\n",
       "  'title = \"Meaning \" \\'of\\' \" Life\" # Implicit concatenation\\ntitle',\n",
       "  '\\'knight\\\\\\'s\\', \"knight\\\\\"s\"',\n",
       "  \"s = 'a\\\\nb\\\\tc'\",\n",
       "  's',\n",
       "  'print s',\n",
       "  'print (s)',\n",
       "  'len(s)',\n",
       "  \"s = 'a\\\\0b\\\\0c'\\ns\",\n",
       "  'len(s)',\n",
       "  'x = \"C:\\\\py\\\\code\" # Keeps \\\\ literally\\nx\\nlen(x)',\n",
       "  'x = \"C:\\\\py\\\\code\" # Keeps \\\\ literally\\nx',\n",
       "  'len(x)',\n",
       "  \"path = r'C:\\\\new\\\\text.dat'\\npath\",\n",
       "  'print path',\n",
       "  'print (path)',\n",
       "  'len(path)',\n",
       "  'mantra = \"\"\"Always look\\non the bright\\nside of life.\"\"\"',\n",
       "  'mantra',\n",
       "  \"u'spam'\",\n",
       "  \"'ni' + u'spam'\",\n",
       "  \"str(u'spam') \",\n",
       "  \"unicode('spam')\",\n",
       "  \"unicode = u\\nunicode('spam')\",\n",
       "  \"unicode = 0\\nunicode('spam')\",\n",
       "  \"class unicode\\nunicode.('spam')\",\n",
       "  \"class unicode()\\nunicode.('spam')\",\n",
       "  \"u'ab\\\\U00000020cd'\",\n",
       "  \"get_ipython().run_line_magic('', 'python')\\nlen('abc') \",\n",
       "  \"len('abc') \",\n",
       "  \"'Ni!' * 4\",\n",
       "  \"print ('------- ...more... ---')\",\n",
       "  'myjob = \"hacker\"\\nfor c in myjob: print c,',\n",
       "  'myjob = \"hacker\"\\nfor c in myjob: print c,. . .',\n",
       "  'myjob = \"hacker\"\\nfor c in myjob: print (c)',\n",
       "  '\"k\" in myjob',\n",
       "  '\"z\" in myjob',\n",
       "  \"S = 'abcdefghijklmnop'\\nS[1:10:2]\",\n",
       "  'int(\"42\"), str(42)',\n",
       "  'repr(42), `42`',\n",
       "  \"repr(42), '42'\",\n",
       "  'str(3.1415), float(\"1.5\")',\n",
       "  'text = \"1.234E-10\"\\nfloat(text)',\n",
       "  \"B = '1101'\\nI = 0\\n while B:\\n... I = I * 2 + (ord(B[0]) - ord('0'))\\n... B = B[1:]\\n...\\nI\",\n",
       "  \"B = '1101'\\nI = 0\\n while B:\\n    I = I * 2 + (ord(B[0]) - ord('0'))\\n    B = B[1:]\\n\\nI\",\n",
       "  \"S = S[:4] + 'Burger' + S[-1]\\nS\",\n",
       "  \"S = 'splot'\\nS = S.replace('pl', 'pamal')\\nS\",\n",
       "  \"'That is %d %s bird!' % (1, 'dead')\",\n",
       "  'exclamation = \"Ni\"\\n\"The knights who say %s!\" % exclamation',\n",
       "  '\"%s -- %s -- %s\" % (42, 3.14159, [1, 2, 3])',\n",
       "  'x = 1234\\nres = \"integers: ...%d...%-6d...%06d\" % (x, x, x)\\nres',\n",
       "  \"'%-6.2f | %05.2f | %+06.1f' % (x, x, x)\",\n",
       "  'reply = \"\"\"\\nGreetings...\\nHello %(name)s!\\nYour age squared is %(age)s\\n\"\"\"\\nvalues = {\\'name\\': \\'Bob\\', \\'age\\': 40}\\nprint reply % values',\n",
       "  \"food = 'spam'\\nage = 40\\nvars( )\"],\n",
       " 'Out': {13: [1, 2, 3, 4],\n",
       "  14: [1, 2, 3, 4],\n",
       "  16: [1, 2, 3, 4],\n",
       "  18: [1, 2, 3, 4, 5, 6, 7, 8],\n",
       "  53: \"spam's\",\n",
       "  54: \"spam'sspam'sspam's\",\n",
       "  56: 's',\n",
       "  60: \"spam'\",\n",
       "  61: 6,\n",
       "  62: \"a <class 'type'> parrot\",\n",
       "  63: 1,\n",
       "  64: \"spam's\",\n",
       "  65: \"sxxm's\",\n",
       "  66: [''],\n",
       "  67: False,\n",
       "  68: '',\n",
       "  74: 'C:\\\\new\\\\test.spm',\n",
       "  75: 'eggs spam',\n",
       "  76: 's\\tp\\na\\x00m',\n",
       "  77: ('... spam ...', '... spam ...'),\n",
       "  78: \"spa'm\",\n",
       "  79: 'spa\"m',\n",
       "  80: ('shrubbery', 'shrubbery'),\n",
       "  81: ('knight\"s', \"knight's\"),\n",
       "  82: 'Meaning of Life',\n",
       "  83: (\"knight's\", 'knight\"s'),\n",
       "  85: 'a\\nb\\tc',\n",
       "  88: 5,\n",
       "  89: 'a\\x00b\\x00c',\n",
       "  90: 5,\n",
       "  91: 10,\n",
       "  92: 'C:\\\\py\\\\code',\n",
       "  93: 10,\n",
       "  94: 'C:\\\\new\\\\text.dat',\n",
       "  97: 15,\n",
       "  99: 'Always look\\non the bright\\nside of life.',\n",
       "  100: 'spam',\n",
       "  101: 'nispam',\n",
       "  102: 'spam',\n",
       "  108: 'ab cd',\n",
       "  110: 3,\n",
       "  111: 'Ni!Ni!Ni!Ni!',\n",
       "  116: True,\n",
       "  117: False,\n",
       "  118: 'bdfhj',\n",
       "  119: (42, '42'),\n",
       "  121: ('42', '42'),\n",
       "  122: ('3.1415', 1.5),\n",
       "  123: 1.234e-10,\n",
       "  126: 'abcdBurgerp',\n",
       "  127: 'spamalot',\n",
       "  128: 'That is 1 dead bird!',\n",
       "  129: 'The knights who say Ni!',\n",
       "  130: '42 -- 3.14159 -- [1, 2, 3]',\n",
       "  131: 'integers: ...1234...1234  ...001234',\n",
       "  132: '1234.00 | 1234.00 | +1234.0'},\n",
       " 'get_ipython': <bound method InteractiveShell.get_ipython of <ipykernel.zmqshell.ZMQInteractiveShell object at 0x000001E2C9FAFEE0>>,\n",
       " 'exit': <IPython.core.autocall.ZMQExitAutocall at 0x1e2ca050820>,\n",
       " 'quit': <IPython.core.autocall.ZMQExitAutocall at 0x1e2ca050820>,\n",
       " '_': '1234.00 | 1234.00 | +1234.0',\n",
       " '__': 'integers: ...1234...1234  ...001234',\n",
       " '___': '42 -- 3.14159 -- [1, 2, 3]',\n",
       " '_i': 'reply = \"\"\"\\nGreetings...\\nHello %(name)s!\\nYour age squared is %(age)s\\n\"\"\"\\nvalues = {\\'name\\': \\'Bob\\', \\'age\\': 40}\\nprint reply % values',\n",
       " '_ii': \"'%-6.2f | %05.2f | %+06.1f' % (x, x, x)\",\n",
       " '_iii': 'x = 1234\\nres = \"integers: ...%d...%-6d...%06d\" % (x, x, x)\\nres',\n",
       " '_i1': 'a = input() # always returns string\\nprint(a)',\n",
       " 'a': 1,\n",
       " '_i2': 'a = input(\"Enter a value: \")\\nprint(a)',\n",
       " '_i3': 'myjob = \"bangladesh\"\\nfor c in \\'myjob\\': \\n    print(c,end=\\'\\\\n\\')',\n",
       " 'myjob': 'hacker',\n",
       " 'c': 'r',\n",
       " '_i4': 'myjob = \"bangladesh\"\\nfor c in myjob: \\n    print(c,end=\\'\\\\n\\')',\n",
       " '_i5': 'myjob = \"bangladesh\"\\nfor c in \\'myjob\\': \\n    print(c,end=\\'\\\\n\\')',\n",
       " '_i6': \"# if\\na = 1\\nif a > 2:\\n    print ('greater')\",\n",
       " '_i7': \"# if\\na = 1\\nif a > 2:\\n    print ('greater')\",\n",
       " '_i8': \"# if\\na = 1\\nif a > 2:\\n    print ('greater')\",\n",
       " '_i9': \"# if-else\\na = 1\\nif a > 2:\\n    print ('greater')\\nelse:\\n    print( 'smaller')\",\n",
       " '_i10': '# define method\\ndef addnumbers(a, b): # add numbers and return result\\n    # logic\\n    c = a + b\\n    return c',\n",
       " 'addnumbers': <function __main__.addnumbers(a, b)>,\n",
       " '_i11': 'def addNumbers(num1, num2):\\n    newlist = num1\\n    for n1 in num1:\\n        sum = newlist + num2\\n    return newlist\\n    ',\n",
       " 'addNumbers': <function __main__.addNumbers(num1, num2)>,\n",
       " '_i12': 'def addNumbers(num1, num2):\\n    newlist = num1\\n    for n1 in num1:\\n        sum = newlist + num2\\n    return newlist\\n    ',\n",
       " '_i13': 'n1 = [1,2,3,4]\\nn2 = [5,6,7,8]\\naddNumbers(n1, n2)',\n",
       " 'n1': [1, 2, 3, 4],\n",
       " 'n2': [5, 6, 7, 8],\n",
       " '_13': [1, 2, 3, 4],\n",
       " '_i14': 'n1 = [1,2,3,4]\\nn2 = [5,6,7,8]\\naddNumbers(n1, n2)',\n",
       " '_14': [1, 2, 3, 4],\n",
       " '_i15': 'def addNumbers(num1, num2):\\n    newlist = num1\\n    for n in num2:\\n        sum = newlist + num2\\n    return newlist\\n    ',\n",
       " '_i16': 'n1 = [1,2,3,4]\\nn2 = [5,6,7,8]\\naddNumbers(n1, n2)',\n",
       " '_16': [1, 2, 3, 4],\n",
       " '_i17': 'def addNumbers(num1, num2):\\n    newlist = num1\\n    for n in num2:\\n        sum = newlist + num2\\n    return sum\\n    ',\n",
       " '_i18': 'n1 = [1,2,3,4]\\nn2 = [5,6,7,8]\\naddNumbers(n1, n2)',\n",
       " '_18': [1, 2, 3, 4, 5, 6, 7, 8],\n",
       " '_i19': 'def addNumbers(num1, num2):\\n    newlist = num1\\n    for n in num2:\\n        for n in num1:\\n        sum = newlist + num2\\n    return sum\\n    ',\n",
       " '_i20': 'def addNumbers(num1, num2):\\n    sum = 0\\n    for n in num2:\\n        for n in num1:\\n        sum = num1 + num2\\n    return sum\\n    ',\n",
       " '_i21': 'def addNumbers(num1, num2):\\n    sum = 0\\n    for n in num2:\\n        for m in num1:\\n        sum = num1 + num2\\n    return sum\\n    ',\n",
       " '_i22': 'def addNumbers(num1, num2):\\n    sum = 0\\n    for n in num1:\\n        for m in num2:\\n        sum = num1 + num2\\n    return sum\\n    ',\n",
       " '_i23': 'def addNumbers(num1, num2):\\n    sum = num1\\n    for n in num1:\\n        for m in num2:\\n        sum = num1 + num2\\n    return sum\\n    ',\n",
       " '_i24': 'def addNumbers(num1, num2):\\n    sum = num1\\n    for n in num1:\\n        for m in num2:\\n        sum.append(num1 + num2)\\n    return sum\\n    ',\n",
       " '_i25': 'def addNumbers(num1, num2):\\n    sum = num1\\n    for n in num1:\\n        for m in num2:\\n            for (num1, num2) in zip(addNumbers):\\n        sum.append(num1 + num2)\\n    return sum\\n    ',\n",
       " '_i26': 'def addNumbers(num1, num2):\\n    zipped_lists = zip(list1, list2)\\n        sum = [x + y for (x, y) in zipped_lists]\\n    return sum\\n    ',\n",
       " '_i27': 'def addNumbers(num1, num2):\\n    list = zip(num1, num2)\\n        sum = [x + y for (x, y) in list]\\n    return sum\\n    ',\n",
       " '_i28': 'def addNumbers(num1, num2):\\n    list = zip(num1, num2)\\n        sum = [i + j for (i, j) in list]\\n    return sum\\n    ',\n",
       " '_i29': 'def addNumbers(num1, num2):\\n    list = zip(num1, num2)\\n        for n in num1:\\n            for m in num2:\\n            sum = [list]\\n    \\n    return sum\\n    ',\n",
       " '_i30': 'def addNumbers(num1, num2):\\n    list = zip(num1, num2)\\n            for n in num1:\\n            for m in num2:\\n            sum = [list]\\n    \\n    return sum\\n    ',\n",
       " '_i31': 'def getNames(parts)\\n    Name=parts.split(maxsplit=3)\\n    if len(Name)==3:\\n        first,last = parts\\n    else:\\n        first = parts[0]\\n        last = parts[-1]\\n    return first,last',\n",
       " '_i32': 'def getNames(parts)\\n    Name=parts.split(maxsplit=3)\\n    if len(Name)==3:\\n        first,last = parts\\n    else:\\n        first = parts[0]\\n        last = parts[-1]\\n    return getNames',\n",
       " '_i33': 'def getNames()\\n    Name=parts.split(maxsplit=3)\\n    if len(Name)==3:\\n        first,last = parts\\n    else:\\n        first = parts[0]\\n        last = parts[-1]\\n    return ',\n",
       " '_i34': 'def addNumbers(num1, num2):\\n    newlist = num1\\n         for n in num1:\\n            newlist.append(num2)\\n    \\n    return newlist\\n    ',\n",
       " '_i35': 'def addNumbers(num1, num2):\\n    newlist = num1\\n         for n in num1:\\n            newlist.append(num1+num2)\\n    \\n    return newlist\\n    ',\n",
       " '_i36': 'def getNames(name)\\n    parts = name.split(maxsplit=3)\\n    if len(parts)==3:\\n        first,last = parts\\n    else:\\n        first = parts[0]\\n        last = parts[-1]\\n    return (first,last)',\n",
       " '_i37': 'def addNumbers(num1, num2):\\n    newlist = num1[x]\\n         for n in num1:\\n            newlist.append(num1+num2)\\n    \\n    return newlist\\n    ',\n",
       " '_i38': 'def addNumbers(num1, num2):\\n    newlist = num1[x]\\n         for x in num1:\\n            newlist.append(num1+num2)\\n    \\n    return newlist\\n    ',\n",
       " '_i39': 'def addNumbers(num1, num2):\\n    newlist = num1[x]\\n         for n in num1:\\n            newlist.append(num1+num2)\\n    \\n    return newlist\\n    ',\n",
       " '_i40': 'def addNumbers(num1, num2):\\n    newlist = []\\n         for n in num1:\\n            newlist.append(num1[x]+num2[x])\\n    \\n    return newlist\\n    ',\n",
       " '_i41': 'def addNumbers(num1, num2):\\n    newlist = []\\n         for n in num1:\\n            newlist.append(num1[x]+num2[x])\\n    \\n    return newlist\\n    ',\n",
       " '_i42': \"s1 = ''\",\n",
       " 's1': '',\n",
       " '_i43': 's2 = \"spam\\'s\"',\n",
       " 's2': \"spam's\",\n",
       " '_i44': 'block = \"\"\"...\"\"\"',\n",
       " 'block': '...',\n",
       " '_i45': 'def addNumbers(num1, num2):\\n    newlist = []\\n         for x in range(len(num1)):\\n            newlist.append(num1[x]+num2[x])\\n    \\n    return newlist\\n    ',\n",
       " '_i46': 'def addNumbers(num1, num2):\\n    newlist = []\\n         for x in range(len(num1)):\\n            newlist.append(num1[x]+num2[x])\\n    \\n    return newlist\\n\\nu=[1,2,3,4]\\nv =[5,6,7,8]\\nprint(addNumbers(u,v))\\n    ',\n",
       " '_i47': 'def addNumbers(num1, num2):\\n    newlist = []\\n    for x in range(len(num1)):\\n        newlist.append(num1[x]+num2[x])\\n    \\n    return newlist\\n\\nu=[1,2,3,4]\\nv =[5,6,7,8]\\nprint(addNumbers(u,v))\\n    ',\n",
       " 'u': [1, 2, 3, 4],\n",
       " 'v': [5, 6, 7, 8],\n",
       " '_i48': \"s3 = r'\\\\temp\\\\spam'\",\n",
       " 's3': '\\\\temp\\\\spam',\n",
       " '_i49': \"s4 = u'spam'\",\n",
       " 's4': 'spam',\n",
       " '_i50': \"def getNames(name)\\n    parts = name.split(maxsplit=3)\\n    if len(parts)==3:\\n        first,last = parts\\n    else:\\n        first = parts[0]\\n        print('First Name: '+ first)\\n        last = parts[-1]\\n        print('Last Name: '+ last)\\n    return (first,last)\\n\\nName = 'Sanjida Alam'\\nprint(getNames[first,Last])\",\n",
       " '_i51': \"def getNames(string)\\n    parts = name.split(maxsplit=3)\\n    if len(parts)==3:\\n        first,last = parts\\n    else:\\n        first = parts[0]\\n        print('First Name: '+ first)\\n        last = parts[-1]\\n        print('Last Name: '+ last)\\n    return (first,last)\\n\\nName = 'Sanjida Alam'\\nprint(getNames[first,Last])\",\n",
       " '_i52': \"def getNames(value)\\n    parts = value.split(maxsplit=3)\\n    if len(parts)==3:\\n        first,last = parts\\n    else:\\n        first = parts[0]\\n        print('First Name: '+ first)\\n        last = parts[-1]\\n        print('Last Name: '+ last)\\n    return (first,last)\\n\\na = 'Sanjida Alam'\\nprint(getNames[first,Last])\",\n",
       " '_i53': 's1 + s2',\n",
       " '_53': \"spam's\",\n",
       " '_i54': 's2 * 3',\n",
       " '_54': \"spam'sspam'sspam's\",\n",
       " '_i55': 's2[i]',\n",
       " '_i56': 'i=0\\ns2[i]',\n",
       " 'i': 0,\n",
       " '_56': 's',\n",
       " '_i57': \"def name(first_name, last_name):\\n    return first_name + ' ' + last_name\\n\\nfull_name = name('Sanjida','Alam')\\nprint(full_name)\",\n",
       " 'name': <function __main__.name(first_name, last_name)>,\n",
       " 'full_name': 'Sanjida Alam',\n",
       " '_i58': 'def name(first_name, last_name):\\n    return first_name + \\' \\' + last_name\\n\\nfull_name = name(\\'Sanjida\\',\\'Alam\\')\\nprint(full_name)\\n\\ndef getNames(name):\\n    first, *last = name.split()\\n    print(\"First Name: {first}\".format(first=first))\\n    print(\"Last Name: {last}\".format(last=\" \".join(last)))\\n    \\ngetNames(\\'Sanjida Alam\\')',\n",
       " 'getNames': <function __main__.getNames(name)>,\n",
       " '_i59': 's2[i:j]',\n",
       " '_i60': 'j= -1\\ns2[i:j]',\n",
       " 'j': -1,\n",
       " '_60': \"spam'\",\n",
       " '_i61': 'len(s2)',\n",
       " '_61': 6,\n",
       " '_i62': '\"a %s parrot\" % type',\n",
       " '_62': \"a <class 'type'> parrot\",\n",
       " '_i63': \"s2.find('pa')\",\n",
       " '_63': 1,\n",
       " '_i64': 's2.rstrip( )',\n",
       " '_64': \"spam's\",\n",
       " '_i65': \"s2.replace('pa', 'xx')\",\n",
       " '_65': \"sxxm's\",\n",
       " '_i66': \"s1.split(',')\",\n",
       " '_66': [''],\n",
       " '_i67': 's1.isdigit( )',\n",
       " '_67': False,\n",
       " '_i68': 's1.lower( )',\n",
       " '_68': '',\n",
       " '_i69': \"for x in s2\\n'spam' in s2\",\n",
       " '_i70': 'for x in s2',\n",
       " '_i71': \"for x in s2\\n'spam' in s2\",\n",
       " '_i72': \"for x in s2\\n    'spam' in s2\",\n",
       " '_i73': \"for x in range(len(s2))\\n    'spam' in s2\",\n",
       " '_i74': 'r\"C:\\\\new\\\\test.spm\"',\n",
       " '_74': 'C:\\\\new\\\\test.spm',\n",
       " '_i75': \"u'eggs\\\\u0020spam'\",\n",
       " '_75': 'eggs spam',\n",
       " '_i76': '\"s\\\\tp\\\\na\\\\0m\"',\n",
       " '_76': 's\\tp\\na\\x00m',\n",
       " '_i77': '\\'\\'\\'... spam ...\\'\\'\\', \"\"\"... spam ...\"\"\"',\n",
       " '_77': ('... spam ...', '... spam ...'),\n",
       " '_i78': '\"spa\\'m\"',\n",
       " '_78': \"spa'm\",\n",
       " '_i79': '\\'spa\"m\\'',\n",
       " '_79': 'spa\"m',\n",
       " '_i80': '\\'shrubbery\\', \"shrubbery\"',\n",
       " '_80': ('shrubbery', 'shrubbery'),\n",
       " '_i81': '\\'knight\"s\\', \"knight\\'s\"',\n",
       " '_81': ('knight\"s', \"knight's\"),\n",
       " '_i82': 'title = \"Meaning \" \\'of\\' \" Life\" # Implicit concatenation\\ntitle',\n",
       " 'title': 'Meaning of Life',\n",
       " '_82': 'Meaning of Life',\n",
       " '_i83': '\\'knight\\\\\\'s\\', \"knight\\\\\"s\"',\n",
       " '_83': (\"knight's\", 'knight\"s'),\n",
       " '_i84': \"s = 'a\\\\nb\\\\tc'\",\n",
       " 's': 'a\\x00b\\x00c',\n",
       " '_i85': 's',\n",
       " '_85': 'a\\nb\\tc',\n",
       " '_i86': 'print s',\n",
       " '_i87': 'print (s)',\n",
       " '_i88': 'len(s)',\n",
       " '_88': 5,\n",
       " '_i89': \"s = 'a\\\\0b\\\\0c'\\ns\",\n",
       " '_89': 'a\\x00b\\x00c',\n",
       " '_i90': 'len(s)',\n",
       " '_90': 5,\n",
       " '_i91': 'x = \"C:\\\\py\\\\code\" # Keeps \\\\ literally\\nx\\nlen(x)',\n",
       " 'x': 1234,\n",
       " '_91': 10,\n",
       " '_i92': 'x = \"C:\\\\py\\\\code\" # Keeps \\\\ literally\\nx',\n",
       " '_92': 'C:\\\\py\\\\code',\n",
       " '_i93': 'len(x)',\n",
       " '_93': 10,\n",
       " '_i94': \"path = r'C:\\\\new\\\\text.dat'\\npath\",\n",
       " 'path': 'C:\\\\new\\\\text.dat',\n",
       " '_94': 'C:\\\\new\\\\text.dat',\n",
       " '_i95': 'print path',\n",
       " '_i96': 'print (path)',\n",
       " '_i97': 'len(path)',\n",
       " '_97': 15,\n",
       " '_i98': 'mantra = \"\"\"Always look\\n... on the bright\\n... side of life.\"\"\"',\n",
       " 'mantra': 'Always look\\non the bright\\nside of life.',\n",
       " '_i99': 'mantra',\n",
       " '_99': 'Always look\\non the bright\\nside of life.',\n",
       " '_i100': \"u'spam'\",\n",
       " '_100': 'spam',\n",
       " '_i101': \"'ni' + u'spam'\",\n",
       " '_101': 'nispam',\n",
       " '_i102': \"str(u'spam') \",\n",
       " '_102': 'spam',\n",
       " '_i103': \"unicode('spam')\",\n",
       " '_i104': \"unicode = u\\nunicode('spam')\",\n",
       " 'unicode': 0,\n",
       " '_i105': \"unicode = 0\\nunicode('spam')\",\n",
       " '_i106': \"class unicode\\nunicode.('spam')\",\n",
       " '_i107': \"class unicode()\\nunicode.('spam')\",\n",
       " '_i108': \"u'ab\\\\U00000020cd'\",\n",
       " '_108': 'ab cd',\n",
       " '_i109': \"% python\\nlen('abc') \",\n",
       " '_i110': \"\\nlen('abc') \",\n",
       " '_110': 3,\n",
       " '_i111': \"'Ni!' * 4\",\n",
       " '_111': 'Ni!Ni!Ni!Ni!',\n",
       " '_i112': \"print ('------- ...more... ---')\",\n",
       " '_i113': 'myjob = \"hacker\"\\nfor c in myjob: print c,',\n",
       " '_i114': 'myjob = \"hacker\"\\nfor c in myjob: print c,. . .',\n",
       " '_i115': 'myjob = \"hacker\"\\nfor c in myjob: print (c)',\n",
       " '_i116': '\"k\" in myjob',\n",
       " '_116': True,\n",
       " '_i117': '\"z\" in myjob',\n",
       " '_117': False,\n",
       " '_i118': \"S = 'abcdefghijklmnop'\\nS[1:10:2]\",\n",
       " 'S': 'spamalot',\n",
       " '_118': 'bdfhj',\n",
       " '_i119': 'int(\"42\"), str(42)',\n",
       " '_119': (42, '42'),\n",
       " '_i120': 'repr(42), `42`',\n",
       " '_i121': \"repr(42), '42'\",\n",
       " '_121': ('42', '42'),\n",
       " '_i122': 'str(3.1415), float(\"1.5\")',\n",
       " '_122': ('3.1415', 1.5),\n",
       " '_i123': 'text = \"1.234E-10\"\\nfloat(text)',\n",
       " 'text': '1.234E-10',\n",
       " '_123': 1.234e-10,\n",
       " '_i124': \"B = '1101'\\nI = 0\\n while B:\\n... I = I * 2 + (ord(B[0]) - ord('0'))\\n... B = B[1:]\\n...\\nI\",\n",
       " '_i125': \"B = '1101'\\nI = 0\\n while B:\\n    I = I * 2 + (ord(B[0]) - ord('0'))\\n    B = B[1:]\\n\\nI\",\n",
       " '_i126': \"S = S[:4] + 'Burger' + S[-1]\\nS\",\n",
       " '_126': 'abcdBurgerp',\n",
       " '_i127': \"S = 'splot'\\nS = S.replace('pl', 'pamal')\\nS\",\n",
       " '_127': 'spamalot',\n",
       " '_i128': \"'That is %d %s bird!' % (1, 'dead')\",\n",
       " '_128': 'That is 1 dead bird!',\n",
       " '_i129': 'exclamation = \"Ni\"\\n\"The knights who say %s!\" % exclamation',\n",
       " 'exclamation': 'Ni',\n",
       " '_129': 'The knights who say Ni!',\n",
       " '_i130': '\"%s -- %s -- %s\" % (42, 3.14159, [1, 2, 3])',\n",
       " '_130': '42 -- 3.14159 -- [1, 2, 3]',\n",
       " '_i131': 'x = 1234\\nres = \"integers: ...%d...%-6d...%06d\" % (x, x, x)\\nres',\n",
       " 'res': 'integers: ...1234...1234  ...001234',\n",
       " '_131': 'integers: ...1234...1234  ...001234',\n",
       " '_i132': \"'%-6.2f | %05.2f | %+06.1f' % (x, x, x)\",\n",
       " '_132': '1234.00 | 1234.00 | +1234.0',\n",
       " '_i133': 'reply = \"\"\"\\nGreetings...\\nHello %(name)s!\\nYour age squared is %(age)s\\n\"\"\"\\nvalues = {\\'name\\': \\'Bob\\', \\'age\\': 40}\\nprint reply % values',\n",
       " '_i134': \"food = 'spam'\\nage = 40\\nvars( )\",\n",
       " 'food': 'spam',\n",
       " 'age': 40}"
      ]
     },
     "execution_count": 134,
     "metadata": {},
     "output_type": "execute_result"
    }
   ],
   "source": [
    "food = 'spam'\n",
    "age = 40\n",
    "vars( )"
   ]
  },
  {
   "cell_type": "code",
   "execution_count": 135,
   "metadata": {},
   "outputs": [
    {
     "data": {
      "text/plain": [
       "'spaxxy'"
      ]
     },
     "execution_count": 135,
     "metadata": {},
     "output_type": "execute_result"
    }
   ],
   "source": [
    "S = 'spammy'\n",
    "S = S.replace('mm', 'xx')\n",
    "S"
   ]
  },
  {
   "cell_type": "code",
   "execution_count": 136,
   "metadata": {},
   "outputs": [
    {
     "data": {
      "text/plain": [
       "'aaSPAMbbSPAMccSPAMdd'"
      ]
     },
     "execution_count": 136,
     "metadata": {},
     "output_type": "execute_result"
    }
   ],
   "source": [
    "'aa$bb$cc$dd'.replace('$', 'SPAM')"
   ]
  },
  {
   "cell_type": "code",
   "execution_count": 137,
   "metadata": {},
   "outputs": [
    {
     "ename": "IndentationError",
     "evalue": "unexpected indent (<ipython-input-137-1ae55b64d23b>, line 3)",
     "output_type": "error",
     "traceback": [
      "\u001b[1;36m  File \u001b[1;32m\"<ipython-input-137-1ae55b64d23b>\"\u001b[1;36m, line \u001b[1;32m3\u001b[0m\n\u001b[1;33m    where\u001b[0m\n\u001b[1;37m    ^\u001b[0m\n\u001b[1;31mIndentationError\u001b[0m\u001b[1;31m:\u001b[0m unexpected indent\n"
     ]
    }
   ],
   "source": [
    "S = 'xxxxSPAMxxxxSPAMxxxx'\n",
    "where = S.find('SPAM') # Search for position\n",
    " where"
   ]
  },
  {
   "cell_type": "code",
   "execution_count": 138,
   "metadata": {},
   "outputs": [],
   "source": [
    "line = 'aaa bbb ccc'\n"
   ]
  },
  {
   "cell_type": "code",
   "execution_count": 139,
   "metadata": {},
   "outputs": [],
   "source": [
    "col1 = line[0:3]"
   ]
  },
  {
   "cell_type": "code",
   "execution_count": 140,
   "metadata": {},
   "outputs": [],
   "source": [
    "col3 = line[8:]"
   ]
  },
  {
   "cell_type": "code",
   "execution_count": 141,
   "metadata": {},
   "outputs": [
    {
     "data": {
      "text/plain": [
       "'aaa'"
      ]
     },
     "execution_count": 141,
     "metadata": {},
     "output_type": "execute_result"
    }
   ],
   "source": [
    "col1"
   ]
  },
  {
   "cell_type": "markdown",
   "metadata": {},
   "source": [
    "## Lesson 3 (List and Dictionaries)"
   ]
  },
  {
   "cell_type": "code",
   "execution_count": 142,
   "metadata": {},
   "outputs": [],
   "source": [
    "L1 = [] "
   ]
  },
  {
   "cell_type": "code",
   "execution_count": 143,
   "metadata": {},
   "outputs": [],
   "source": [
    "L2 = [0, 1, 2, 3]"
   ]
  },
  {
   "cell_type": "code",
   "execution_count": 144,
   "metadata": {},
   "outputs": [],
   "source": [
    "L3 = ['abc', ['def', 'ghi']]"
   ]
  },
  {
   "cell_type": "code",
   "execution_count": 145,
   "metadata": {},
   "outputs": [
    {
     "data": {
      "text/plain": [
       "0"
      ]
     },
     "execution_count": 145,
     "metadata": {},
     "output_type": "execute_result"
    }
   ],
   "source": [
    "L2[i]"
   ]
  },
  {
   "cell_type": "code",
   "execution_count": 146,
   "metadata": {},
   "outputs": [
    {
     "data": {
      "text/plain": [
       "'c'"
      ]
     },
     "execution_count": 146,
     "metadata": {},
     "output_type": "execute_result"
    }
   ],
   "source": [
    "L3[i][j]"
   ]
  },
  {
   "cell_type": "code",
   "execution_count": 147,
   "metadata": {},
   "outputs": [
    {
     "data": {
      "text/plain": [
       "[0, 1, 2]"
      ]
     },
     "execution_count": 147,
     "metadata": {},
     "output_type": "execute_result"
    }
   ],
   "source": [
    "L2[i:j]"
   ]
  },
  {
   "cell_type": "code",
   "execution_count": 148,
   "metadata": {},
   "outputs": [
    {
     "data": {
      "text/plain": [
       "4"
      ]
     },
     "execution_count": 148,
     "metadata": {},
     "output_type": "execute_result"
    }
   ],
   "source": [
    "len(L2)"
   ]
  },
  {
   "cell_type": "code",
   "execution_count": 149,
   "metadata": {},
   "outputs": [
    {
     "data": {
      "text/plain": [
       "[0, 1, 2, 3]"
      ]
     },
     "execution_count": 149,
     "metadata": {},
     "output_type": "execute_result"
    }
   ],
   "source": [
    "L1 + L2"
   ]
  },
  {
   "cell_type": "code",
   "execution_count": 150,
   "metadata": {},
   "outputs": [
    {
     "data": {
      "text/plain": [
       "[0, 1, 2, 3, 0, 1, 2, 3, 0, 1, 2, 3]"
      ]
     },
     "execution_count": 150,
     "metadata": {},
     "output_type": "execute_result"
    }
   ],
   "source": [
    "L2 * 3"
   ]
  },
  {
   "cell_type": "code",
   "execution_count": 151,
   "metadata": {},
   "outputs": [],
   "source": [
    "L2.append(4)"
   ]
  },
  {
   "cell_type": "code",
   "execution_count": 152,
   "metadata": {},
   "outputs": [],
   "source": [
    "L2.extend([5,6,7])"
   ]
  },
  {
   "cell_type": "code",
   "execution_count": 153,
   "metadata": {},
   "outputs": [],
   "source": [
    "L2.sort( )"
   ]
  },
  {
   "cell_type": "code",
   "execution_count": 154,
   "metadata": {},
   "outputs": [
    {
     "data": {
      "text/plain": [
       "1"
      ]
     },
     "execution_count": 154,
     "metadata": {},
     "output_type": "execute_result"
    }
   ],
   "source": [
    "L2.index(1)"
   ]
  },
  {
   "cell_type": "code",
   "execution_count": 155,
   "metadata": {},
   "outputs": [
    {
     "ename": "NameError",
     "evalue": "name 'I' is not defined",
     "output_type": "error",
     "traceback": [
      "\u001b[1;31m---------------------------------------------------------------------------\u001b[0m",
      "\u001b[1;31mNameError\u001b[0m                                 Traceback (most recent call last)",
      "\u001b[1;32m<ipython-input-155-f0bafc303fd2>\u001b[0m in \u001b[0;36m<module>\u001b[1;34m\u001b[0m\n\u001b[1;32m----> 1\u001b[1;33m \u001b[0mL2\u001b[0m\u001b[1;33m.\u001b[0m\u001b[0minsert\u001b[0m\u001b[1;33m(\u001b[0m\u001b[0mI\u001b[0m\u001b[1;33m,\u001b[0m \u001b[0mX\u001b[0m\u001b[1;33m)\u001b[0m\u001b[1;33m\u001b[0m\u001b[1;33m\u001b[0m\u001b[0m\n\u001b[0m",
      "\u001b[1;31mNameError\u001b[0m: name 'I' is not defined"
     ]
    }
   ],
   "source": [
    "L2.insert(I, X)"
   ]
  },
  {
   "cell_type": "code",
   "execution_count": 156,
   "metadata": {},
   "outputs": [],
   "source": [
    "L2.reverse( )"
   ]
  },
  {
   "cell_type": "code",
   "execution_count": 157,
   "metadata": {},
   "outputs": [
    {
     "ename": "NameError",
     "evalue": "name 'k' is not defined",
     "output_type": "error",
     "traceback": [
      "\u001b[1;31m---------------------------------------------------------------------------\u001b[0m",
      "\u001b[1;31mNameError\u001b[0m                                 Traceback (most recent call last)",
      "\u001b[1;32m<ipython-input-157-c105a4a50e54>\u001b[0m in \u001b[0;36m<module>\u001b[1;34m\u001b[0m\n\u001b[1;32m----> 1\u001b[1;33m \u001b[1;32mdel\u001b[0m \u001b[0mL2\u001b[0m\u001b[1;33m[\u001b[0m\u001b[0mk\u001b[0m\u001b[1;33m]\u001b[0m\u001b[1;33m\u001b[0m\u001b[1;33m\u001b[0m\u001b[0m\n\u001b[0m",
      "\u001b[1;31mNameError\u001b[0m: name 'k' is not defined"
     ]
    }
   ],
   "source": [
    "del L2[k]"
   ]
  },
  {
   "cell_type": "code",
   "execution_count": 159,
   "metadata": {},
   "outputs": [],
   "source": [
    "del L2[i:j]"
   ]
  },
  {
   "cell_type": "code",
   "execution_count": 160,
   "metadata": {},
   "outputs": [
    {
     "data": {
      "text/plain": [
       "0"
      ]
     },
     "execution_count": 160,
     "metadata": {},
     "output_type": "execute_result"
    }
   ],
   "source": [
    "L2.pop( )"
   ]
  },
  {
   "cell_type": "code",
   "execution_count": 161,
   "metadata": {},
   "outputs": [
    {
     "ename": "ValueError",
     "evalue": "list.remove(x): x not in list",
     "output_type": "error",
     "traceback": [
      "\u001b[1;31m---------------------------------------------------------------------------\u001b[0m",
      "\u001b[1;31mValueError\u001b[0m                                Traceback (most recent call last)",
      "\u001b[1;32m<ipython-input-161-87a451c2f575>\u001b[0m in \u001b[0;36m<module>\u001b[1;34m\u001b[0m\n\u001b[1;32m----> 1\u001b[1;33m \u001b[0mL2\u001b[0m\u001b[1;33m.\u001b[0m\u001b[0mremove\u001b[0m\u001b[1;33m(\u001b[0m\u001b[1;36m2\u001b[0m\u001b[1;33m)\u001b[0m\u001b[1;33m\u001b[0m\u001b[1;33m\u001b[0m\u001b[0m\n\u001b[0m",
      "\u001b[1;31mValueError\u001b[0m: list.remove(x): x not in list"
     ]
    }
   ],
   "source": [
    "L2.remove(2)"
   ]
  },
  {
   "cell_type": "code",
   "execution_count": 162,
   "metadata": {},
   "outputs": [],
   "source": [
    "L2[i:j] = []"
   ]
  },
  {
   "cell_type": "code",
   "execution_count": 163,
   "metadata": {},
   "outputs": [
    {
     "ename": "IndexError",
     "evalue": "list assignment index out of range",
     "output_type": "error",
     "traceback": [
      "\u001b[1;31m---------------------------------------------------------------------------\u001b[0m",
      "\u001b[1;31mIndexError\u001b[0m                                Traceback (most recent call last)",
      "\u001b[1;32m<ipython-input-163-e54fb5aa5dc7>\u001b[0m in \u001b[0;36m<module>\u001b[1;34m\u001b[0m\n\u001b[1;32m----> 1\u001b[1;33m \u001b[0mL2\u001b[0m\u001b[1;33m[\u001b[0m\u001b[0mi\u001b[0m\u001b[1;33m]\u001b[0m \u001b[1;33m=\u001b[0m \u001b[1;36m1\u001b[0m\u001b[1;33m\u001b[0m\u001b[1;33m\u001b[0m\u001b[0m\n\u001b[0m",
      "\u001b[1;31mIndexError\u001b[0m: list assignment index out of range"
     ]
    }
   ],
   "source": [
    "L2[i] = 1"
   ]
  },
  {
   "cell_type": "code",
   "execution_count": 164,
   "metadata": {},
   "outputs": [],
   "source": [
    "L2[i:j] = [4,5,6]"
   ]
  },
  {
   "cell_type": "code",
   "execution_count": 166,
   "metadata": {},
   "outputs": [
    {
     "data": {
      "text/plain": [
       "range(0, 4)"
      ]
     },
     "execution_count": 166,
     "metadata": {},
     "output_type": "execute_result"
    }
   ],
   "source": [
    "range(4)\n",
    "\n"
   ]
  },
  {
   "cell_type": "code",
   "execution_count": 167,
   "metadata": {},
   "outputs": [],
   "source": [
    "L4 = [x**2 for x in range(5)]\n"
   ]
  },
  {
   "cell_type": "markdown",
   "metadata": {},
   "source": [
    "# Lesson 4 (Tuples)"
   ]
  },
  {
   "cell_type": "code",
   "execution_count": 168,
   "metadata": {},
   "outputs": [
    {
     "data": {
      "text/plain": [
       "()"
      ]
     },
     "execution_count": 168,
     "metadata": {},
     "output_type": "execute_result"
    }
   ],
   "source": [
    "()"
   ]
  },
  {
   "cell_type": "code",
   "execution_count": 169,
   "metadata": {},
   "outputs": [],
   "source": [
    "t1 = (0,)"
   ]
  },
  {
   "cell_type": "code",
   "execution_count": 170,
   "metadata": {},
   "outputs": [],
   "source": [
    "t2 = (0, 'Ni', 1.2, 3)"
   ]
  },
  {
   "cell_type": "code",
   "execution_count": 171,
   "metadata": {},
   "outputs": [],
   "source": [
    "t2 = 0, 'Ni', 1.2, 3"
   ]
  },
  {
   "cell_type": "code",
   "execution_count": 172,
   "metadata": {},
   "outputs": [],
   "source": [
    "t3 = ('abc', ('def', 'ghi')) "
   ]
  },
  {
   "cell_type": "code",
   "execution_count": 173,
   "metadata": {},
   "outputs": [
    {
     "data": {
      "text/plain": [
       "0"
      ]
     },
     "execution_count": 173,
     "metadata": {},
     "output_type": "execute_result"
    }
   ],
   "source": [
    "t1[i]"
   ]
  },
  {
   "cell_type": "code",
   "execution_count": 174,
   "metadata": {},
   "outputs": [
    {
     "data": {
      "text/plain": [
       "'c'"
      ]
     },
     "execution_count": 174,
     "metadata": {},
     "output_type": "execute_result"
    }
   ],
   "source": [
    "t3[i][j]"
   ]
  },
  {
   "cell_type": "code",
   "execution_count": 175,
   "metadata": {},
   "outputs": [
    {
     "data": {
      "text/plain": [
       "()"
      ]
     },
     "execution_count": 175,
     "metadata": {},
     "output_type": "execute_result"
    }
   ],
   "source": [
    "t1[i:j]"
   ]
  },
  {
   "cell_type": "code",
   "execution_count": 176,
   "metadata": {},
   "outputs": [
    {
     "data": {
      "text/plain": [
       "1"
      ]
     },
     "execution_count": 176,
     "metadata": {},
     "output_type": "execute_result"
    }
   ],
   "source": [
    "len(t1)\n"
   ]
  },
  {
   "cell_type": "code",
   "execution_count": 177,
   "metadata": {},
   "outputs": [
    {
     "data": {
      "text/plain": [
       "(0, 0, 'Ni', 1.2, 3)"
      ]
     },
     "execution_count": 177,
     "metadata": {},
     "output_type": "execute_result"
    }
   ],
   "source": [
    "t1 + t2"
   ]
  },
  {
   "cell_type": "code",
   "execution_count": 178,
   "metadata": {},
   "outputs": [
    {
     "data": {
      "text/plain": [
       "(0, 'Ni', 1.2, 3, 0, 'Ni', 1.2, 3, 0, 'Ni', 1.2, 3)"
      ]
     },
     "execution_count": 178,
     "metadata": {},
     "output_type": "execute_result"
    }
   ],
   "source": [
    "t2 * 3"
   ]
  },
  {
   "cell_type": "code",
   "execution_count": 180,
   "metadata": {},
   "outputs": [
    {
     "ename": "SyntaxError",
     "evalue": "invalid syntax (<ipython-input-180-756b5622c976>, line 1)",
     "output_type": "error",
     "traceback": [
      "\u001b[1;36m  File \u001b[1;32m\"<ipython-input-180-756b5622c976>\"\u001b[1;36m, line \u001b[1;32m1\u001b[0m\n\u001b[1;33m    for x in t\u001b[0m\n\u001b[1;37m              ^\u001b[0m\n\u001b[1;31mSyntaxError\u001b[0m\u001b[1;31m:\u001b[0m invalid syntax\n"
     ]
    }
   ],
   "source": [
    "for x in t\n",
    " 'spam' in t2"
   ]
  },
  {
   "cell_type": "code",
   "execution_count": 181,
   "metadata": {},
   "outputs": [
    {
     "data": {
      "text/plain": [
       "(1, 2, 3, 4)"
      ]
     },
     "execution_count": 181,
     "metadata": {},
     "output_type": "execute_result"
    }
   ],
   "source": [
    "(1, 2) + (3, 4)"
   ]
  },
  {
   "cell_type": "code",
   "execution_count": 182,
   "metadata": {},
   "outputs": [
    {
     "data": {
      "text/plain": [
       "(1, 2, 1, 2, 1, 2, 1, 2)"
      ]
     },
     "execution_count": 182,
     "metadata": {},
     "output_type": "execute_result"
    }
   ],
   "source": [
    "(1, 2) * 4"
   ]
  },
  {
   "cell_type": "code",
   "execution_count": 183,
   "metadata": {},
   "outputs": [],
   "source": [
    "T = (1, 2, 3, 4)"
   ]
  },
  {
   "cell_type": "code",
   "execution_count": 184,
   "metadata": {},
   "outputs": [
    {
     "data": {
      "text/plain": [
       "(1, (2, 3))"
      ]
     },
     "execution_count": 184,
     "metadata": {},
     "output_type": "execute_result"
    }
   ],
   "source": [
    "T[0], T[1:3]"
   ]
  },
  {
   "cell_type": "code",
   "execution_count": 185,
   "metadata": {},
   "outputs": [
    {
     "data": {
      "text/plain": [
       "40"
      ]
     },
     "execution_count": 185,
     "metadata": {},
     "output_type": "execute_result"
    }
   ],
   "source": [
    "x = (40) # An integer\n",
    "x"
   ]
  },
  {
   "cell_type": "code",
   "execution_count": 186,
   "metadata": {},
   "outputs": [],
   "source": [
    "T = ('cc', 'aa', 'dd', 'bb')\n"
   ]
  },
  {
   "cell_type": "code",
   "execution_count": 187,
   "metadata": {},
   "outputs": [],
   "source": [
    "tmp = list(T)"
   ]
  },
  {
   "cell_type": "code",
   "execution_count": 188,
   "metadata": {},
   "outputs": [],
   "source": [
    "tmp.sort( )"
   ]
  },
  {
   "cell_type": "code",
   "execution_count": 189,
   "metadata": {},
   "outputs": [
    {
     "data": {
      "text/plain": [
       "['aa', 'bb', 'cc', 'dd']"
      ]
     },
     "execution_count": 189,
     "metadata": {},
     "output_type": "execute_result"
    }
   ],
   "source": [
    "tmp"
   ]
  },
  {
   "cell_type": "code",
   "execution_count": 190,
   "metadata": {},
   "outputs": [
    {
     "data": {
      "text/plain": [
       "('aa', 'bb', 'cc', 'dd')"
      ]
     },
     "execution_count": 190,
     "metadata": {},
     "output_type": "execute_result"
    }
   ],
   "source": [
    "T = tuple(tmp) # Make a tuple from the list's items\n",
    "T"
   ]
  },
  {
   "cell_type": "code",
   "execution_count": 191,
   "metadata": {},
   "outputs": [],
   "source": [
    "myfile = open('myfile', 'w') "
   ]
  },
  {
   "cell_type": "code",
   "execution_count": 192,
   "metadata": {},
   "outputs": [
    {
     "data": {
      "text/plain": [
       "16"
      ]
     },
     "execution_count": 192,
     "metadata": {},
     "output_type": "execute_result"
    }
   ],
   "source": [
    "myfile.write('hello text file\\n') "
   ]
  },
  {
   "cell_type": "code",
   "execution_count": 193,
   "metadata": {},
   "outputs": [],
   "source": [
    "myfile.close( )"
   ]
  },
  {
   "cell_type": "code",
   "execution_count": 194,
   "metadata": {},
   "outputs": [],
   "source": [
    "myfile = open('myfile') "
   ]
  },
  {
   "cell_type": "code",
   "execution_count": 195,
   "metadata": {},
   "outputs": [
    {
     "data": {
      "text/plain": [
       "'hello text file\\n'"
      ]
     },
     "execution_count": 195,
     "metadata": {},
     "output_type": "execute_result"
    }
   ],
   "source": [
    "myfile.readline( ) "
   ]
  },
  {
   "cell_type": "code",
   "execution_count": 196,
   "metadata": {},
   "outputs": [
    {
     "data": {
      "text/plain": [
       "''"
      ]
     },
     "execution_count": 196,
     "metadata": {},
     "output_type": "execute_result"
    }
   ],
   "source": [
    "myfile.readline( ) "
   ]
  },
  {
   "cell_type": "code",
   "execution_count": 197,
   "metadata": {},
   "outputs": [],
   "source": [
    "X, Y, Z = 43, 44, 45"
   ]
  },
  {
   "cell_type": "code",
   "execution_count": 198,
   "metadata": {},
   "outputs": [],
   "source": [
    "S = 'Spam'"
   ]
  },
  {
   "cell_type": "code",
   "execution_count": 199,
   "metadata": {},
   "outputs": [],
   "source": [
    "D = {'a': 1, 'b': 2}"
   ]
  },
  {
   "cell_type": "code",
   "execution_count": 200,
   "metadata": {},
   "outputs": [],
   "source": [
    "L = [1, 2, 3]"
   ]
  },
  {
   "cell_type": "code",
   "execution_count": 201,
   "metadata": {},
   "outputs": [],
   "source": [
    "F = open('datafile.txt', 'w')"
   ]
  },
  {
   "cell_type": "code",
   "execution_count": 202,
   "metadata": {},
   "outputs": [
    {
     "data": {
      "text/plain": [
       "5"
      ]
     },
     "execution_count": 202,
     "metadata": {},
     "output_type": "execute_result"
    }
   ],
   "source": [
    "F.write(S + '\\n') "
   ]
  },
  {
   "cell_type": "code",
   "execution_count": 203,
   "metadata": {},
   "outputs": [
    {
     "data": {
      "text/plain": [
       "9"
      ]
     },
     "execution_count": 203,
     "metadata": {},
     "output_type": "execute_result"
    }
   ],
   "source": [
    "F.write('%s,%s,%s\\n' % (X, Y, Z))"
   ]
  },
  {
   "cell_type": "code",
   "execution_count": 204,
   "metadata": {},
   "outputs": [
    {
     "data": {
      "text/plain": [
       "27"
      ]
     },
     "execution_count": 204,
     "metadata": {},
     "output_type": "execute_result"
    }
   ],
   "source": [
    "F.write(str(L) + '$' + str(D) + '\\n') "
   ]
  },
  {
   "cell_type": "code",
   "execution_count": 205,
   "metadata": {},
   "outputs": [],
   "source": [
    "F.close( )"
   ]
  },
  {
   "cell_type": "code",
   "execution_count": 207,
   "metadata": {},
   "outputs": [],
   "source": [
    "F = open('datafile.txt') "
   ]
  },
  {
   "cell_type": "code",
   "execution_count": 208,
   "metadata": {},
   "outputs": [],
   "source": [
    "line = F.readline( ) "
   ]
  },
  {
   "cell_type": "code",
   "execution_count": 209,
   "metadata": {},
   "outputs": [
    {
     "data": {
      "text/plain": [
       "'Spam\\n'"
      ]
     },
     "execution_count": 209,
     "metadata": {},
     "output_type": "execute_result"
    }
   ],
   "source": [
    "line"
   ]
  },
  {
   "cell_type": "code",
   "execution_count": 210,
   "metadata": {},
   "outputs": [
    {
     "data": {
      "text/plain": [
       "'Spam'"
      ]
     },
     "execution_count": 210,
     "metadata": {},
     "output_type": "execute_result"
    }
   ],
   "source": [
    "line.rstrip( ) "
   ]
  },
  {
   "cell_type": "code",
   "execution_count": null,
   "metadata": {},
   "outputs": [],
   "source": []
  }
 ],
 "metadata": {
  "kernelspec": {
   "display_name": "Python 3",
   "language": "python",
   "name": "python3"
  },
  "language_info": {
   "codemirror_mode": {
    "name": "ipython",
    "version": 3
   },
   "file_extension": ".py",
   "mimetype": "text/x-python",
   "name": "python",
   "nbconvert_exporter": "python",
   "pygments_lexer": "ipython3",
   "version": "3.8.8"
  }
 },
 "nbformat": 4,
 "nbformat_minor": 4
}
